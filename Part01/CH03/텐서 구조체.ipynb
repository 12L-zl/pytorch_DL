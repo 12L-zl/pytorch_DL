{
 "cells": [
  {
   "cell_type": "markdown",
   "id": "b0b7eed3",
   "metadata": {},
   "source": [
    "## 3.2 텐서 : 다차원 배열"
   ]
  },
  {
   "cell_type": "markdown",
   "id": "ca14dfa5",
   "metadata": {},
   "source": [
    "### 3.2.2 텐서 만들기"
   ]
  },
  {
   "cell_type": "code",
   "execution_count": 1,
   "id": "540e64f8",
   "metadata": {},
   "outputs": [
    {
     "data": {
      "text/plain": [
       "tensor([1., 1., 1.])"
      ]
     },
     "execution_count": 1,
     "metadata": {},
     "output_type": "execute_result"
    }
   ],
   "source": [
    "import torch\n",
    "a = torch.ones(3) # 크기가 3인 1차원 텐서 만들고 1로 채우기\n",
    "a"
   ]
  },
  {
   "cell_type": "code",
   "execution_count": 2,
   "id": "aa5183b7",
   "metadata": {},
   "outputs": [
    {
     "data": {
      "text/plain": [
       "tensor(1.)"
      ]
     },
     "execution_count": 2,
     "metadata": {},
     "output_type": "execute_result"
    }
   ],
   "source": [
    "a[1]"
   ]
  },
  {
   "cell_type": "code",
   "execution_count": 3,
   "id": "744f513b",
   "metadata": {},
   "outputs": [
    {
     "data": {
      "text/plain": [
       "1.0"
      ]
     },
     "execution_count": 3,
     "metadata": {},
     "output_type": "execute_result"
    }
   ],
   "source": [
    "float(a[1])"
   ]
  },
  {
   "cell_type": "code",
   "execution_count": 4,
   "id": "b28123b8",
   "metadata": {},
   "outputs": [
    {
     "data": {
      "text/plain": [
       "tensor([1., 1., 2.])"
      ]
     },
     "execution_count": 4,
     "metadata": {},
     "output_type": "execute_result"
    }
   ],
   "source": [
    "a[2] = 2.0\n",
    "a"
   ]
  },
  {
   "cell_type": "markdown",
   "id": "c52a77b5",
   "metadata": {},
   "source": [
    "### 3.2.3 텐서의 핵심\n",
    "- 연속적인 메모리가 할당되고 뷰 제공\n",
    "- 각 요소는 32비트(4바이트) float 타입"
   ]
  },
  {
   "cell_type": "code",
   "execution_count": 5,
   "id": "20b5502b",
   "metadata": {},
   "outputs": [
    {
     "data": {
      "text/plain": [
       "tensor([0., 0., 0., 0., 0., 0.])"
      ]
     },
     "execution_count": 5,
     "metadata": {},
     "output_type": "execute_result"
    }
   ],
   "source": [
    "points = torch.zeros(6)\n",
    "points"
   ]
  },
  {
   "cell_type": "code",
   "execution_count": 6,
   "id": "6091050d",
   "metadata": {},
   "outputs": [
    {
     "data": {
      "text/plain": [
       "tensor([4., 0., 6., 0., 0., 0.])"
      ]
     },
     "execution_count": 6,
     "metadata": {},
     "output_type": "execute_result"
    }
   ],
   "source": [
    "# 원하는 값으로 덮어씀\n",
    "points[0] = 4.0\n",
    "points[2] = 6.0\n",
    "points"
   ]
  },
  {
   "cell_type": "code",
   "execution_count": 8,
   "id": "4b33d7ac",
   "metadata": {},
   "outputs": [
    {
     "data": {
      "text/plain": [
       "tensor([4., 1., 4., 5., 3., 2.])"
      ]
     },
     "execution_count": 8,
     "metadata": {},
     "output_type": "execute_result"
    }
   ],
   "source": [
    "# 생성자에 파이썬 리스트 넘겨도 됨\n",
    "points = torch.tensor([4.0, 1.0, 4.0, 5.0, 3.0, 2.0])\n",
    "points"
   ]
  },
  {
   "cell_type": "code",
   "execution_count": 9,
   "id": "466cf05d",
   "metadata": {},
   "outputs": [
    {
     "data": {
      "text/plain": [
       "(4.0, 1.0)"
      ]
     },
     "execution_count": 9,
     "metadata": {},
     "output_type": "execute_result"
    }
   ],
   "source": [
    "float(points[0]), float(points[1])"
   ]
  },
  {
   "cell_type": "code",
   "execution_count": 17,
   "id": "a4778c4a",
   "metadata": {},
   "outputs": [
    {
     "data": {
      "text/plain": [
       "tensor([[4., 1.],\n",
       "        [5., 3.],\n",
       "        [2., 4.]])"
      ]
     },
     "execution_count": 17,
     "metadata": {},
     "output_type": "execute_result"
    }
   ],
   "source": [
    "points = torch.tensor([[4.0, 1.0], [5.0, 3.0], [2.0, 4.0]])\n",
    "points"
   ]
  },
  {
   "cell_type": "code",
   "execution_count": 18,
   "id": "31dc09a5",
   "metadata": {},
   "outputs": [
    {
     "data": {
      "text/plain": [
       "torch.Size([3, 2])"
      ]
     },
     "execution_count": 18,
     "metadata": {},
     "output_type": "execute_result"
    }
   ],
   "source": [
    "points.shape # size()"
   ]
  },
  {
   "cell_type": "code",
   "execution_count": 19,
   "id": "ffb74da0",
   "metadata": {},
   "outputs": [
    {
     "data": {
      "text/plain": [
       "tensor(1.)"
      ]
     },
     "execution_count": 19,
     "metadata": {},
     "output_type": "execute_result"
    }
   ],
   "source": [
    "points[0, 1]"
   ]
  },
  {
   "cell_type": "code",
   "execution_count": 20,
   "id": "23abab4e",
   "metadata": {},
   "outputs": [
    {
     "data": {
      "text/plain": [
       "tensor([4., 1.])"
      ]
     },
     "execution_count": 20,
     "metadata": {},
     "output_type": "execute_result"
    }
   ],
   "source": [
    "points[0]"
   ]
  },
  {
   "cell_type": "code",
   "execution_count": 16,
   "id": "76618cdb",
   "metadata": {},
   "outputs": [
    {
     "data": {
      "text/plain": [
       "tensor([[0., 0.],\n",
       "        [0., 0.],\n",
       "        [0., 0.]])"
      ]
     },
     "execution_count": 16,
     "metadata": {},
     "output_type": "execute_result"
    }
   ],
   "source": [
    "points = torch.zeros(3, 2)\n",
    "points"
   ]
  },
  {
   "cell_type": "markdown",
   "id": "5c18e53c",
   "metadata": {},
   "source": [
    "## 3.3 텐서 인덱싱"
   ]
  },
  {
   "cell_type": "code",
   "execution_count": 23,
   "id": "777ca72d",
   "metadata": {},
   "outputs": [
    {
     "data": {
      "text/plain": [
       "[0, 1, 2, 3, 4, 5]"
      ]
     },
     "execution_count": 23,
     "metadata": {},
     "output_type": "execute_result"
    }
   ],
   "source": [
    "some_list = list(range(6))\n",
    "some_list"
   ]
  },
  {
   "cell_type": "code",
   "execution_count": 24,
   "id": "271b1184",
   "metadata": {},
   "outputs": [
    {
     "data": {
      "text/plain": [
       "[0, 1, 2, 3, 4, 5]"
      ]
     },
     "execution_count": 24,
     "metadata": {},
     "output_type": "execute_result"
    }
   ],
   "source": [
    "some_list[:]"
   ]
  },
  {
   "cell_type": "code",
   "execution_count": 26,
   "id": "dd37556f",
   "metadata": {},
   "outputs": [
    {
     "data": {
      "text/plain": [
       "tensor([[5., 3.],\n",
       "        [2., 4.]])"
      ]
     },
     "execution_count": 26,
     "metadata": {},
     "output_type": "execute_result"
    }
   ],
   "source": [
    "points = torch.tensor([[4.0, 1.0], [5.0, 3.0], [2.0, 4.0]])\n",
    "\n",
    "points[1:]"
   ]
  },
  {
   "cell_type": "code",
   "execution_count": 29,
   "id": "284f3155",
   "metadata": {},
   "outputs": [
    {
     "data": {
      "text/plain": [
       "tensor([[5., 3.],\n",
       "        [2., 4.]])"
      ]
     },
     "execution_count": 29,
     "metadata": {},
     "output_type": "execute_result"
    }
   ],
   "source": [
    "points[1:, :]"
   ]
  },
  {
   "cell_type": "code",
   "execution_count": 30,
   "id": "7670cf5f",
   "metadata": {},
   "outputs": [
    {
     "data": {
      "text/plain": [
       "tensor([5., 2.])"
      ]
     },
     "execution_count": 30,
     "metadata": {},
     "output_type": "execute_result"
    }
   ],
   "source": [
    "points[1:, 0]"
   ]
  },
  {
   "cell_type": "code",
   "execution_count": 31,
   "id": "569bba3f",
   "metadata": {},
   "outputs": [
    {
     "data": {
      "text/plain": [
       "tensor([[[4., 1.],\n",
       "         [5., 3.],\n",
       "         [2., 4.]]])"
      ]
     },
     "execution_count": 31,
     "metadata": {},
     "output_type": "execute_result"
    }
   ],
   "source": [
    "points[None] # 길이가 1인 차원 추가 (= unsqueeze)"
   ]
  },
  {
   "cell_type": "markdown",
   "id": "a492d0f1",
   "metadata": {},
   "source": [
    "## 3.4 이름이 있는 텐서"
   ]
  },
  {
   "cell_type": "code",
   "execution_count": 18,
   "id": "1b8bf085",
   "metadata": {},
   "outputs": [],
   "source": [
    "import torch"
   ]
  },
  {
   "cell_type": "code",
   "execution_count": 5,
   "id": "1e6db289",
   "metadata": {},
   "outputs": [],
   "source": [
    "img_t = torch.randn(3, 5, 5) # 채널, rows, cols\n",
    "weights = torch.tensor([0.2126, 0.7152, 0.0722]) # torch.Size([3])\n",
    "batch_t = torch.randn(2, 3, 5, 5) # batch, channel, rows, cols"
   ]
  },
  {
   "cell_type": "code",
   "execution_count": 6,
   "id": "f8d6168a",
   "metadata": {},
   "outputs": [
    {
     "data": {
      "text/plain": [
       "(torch.Size([5, 5]), torch.Size([2, 5, 5]))"
      ]
     },
     "execution_count": 6,
     "metadata": {},
     "output_type": "execute_result"
    }
   ],
   "source": [
    "# 컬러 -> 흑백\n",
    "img_gray_naive = img_t.mean(-3) # 채널의 인덱스 -3\n",
    "batch_gray_naive = batch_t.mean(-3)\n",
    "\n",
    "img_gray_naive.shape, batch_gray_naive.shape"
   ]
  },
  {
   "cell_type": "code",
   "execution_count": 13,
   "id": "45914ae7",
   "metadata": {},
   "outputs": [],
   "source": [
    "# 브로드캐스팅\n",
    "unsqueezed_weights = weights.unsqueeze(-1).unsqueeze_(-1) # torch.Size([3, 1, 1])\n",
    "img_weights = img_t * unsqueezed_weights # torch.Size([3, 5, 5])\n",
    "batch_weights = batch_t * unsqueezed_weights # torch.Size([2, 3, 5, 5])\n",
    "\n",
    "img_weighted = img_weights.sum(-3)\n",
    "batch_weighted = batch_weights.sum(-3)"
   ]
  },
  {
   "cell_type": "code",
   "execution_count": 17,
   "id": "b34444eb",
   "metadata": {},
   "outputs": [
    {
     "data": {
      "text/plain": [
       "torch.Size([5, 5])"
      ]
     },
     "execution_count": 17,
     "metadata": {},
     "output_type": "execute_result"
    }
   ],
   "source": [
    "# 곱셈 후 합 구하기\n",
    "img_gray_weighted_fancy = torch.einsum('...chw,c->...hw', img_t, weights)\n",
    "batch_gray_weighted_fancy = torch.einsum('...chw,c->...hw', batch_t, weights)\n",
    "img_gray_weighted_fancy.shape"
   ]
  },
  {
   "cell_type": "code",
   "execution_count": 20,
   "id": "22dff282",
   "metadata": {},
   "outputs": [
    {
     "data": {
      "text/plain": [
       "tensor([0.2126, 0.7152, 0.0722], names=('channels',))"
      ]
     },
     "execution_count": 20,
     "metadata": {},
     "output_type": "execute_result"
    }
   ],
   "source": [
    "# 차원에 이름 부여\n",
    "weights_named = torch.tensor([0.2126, 0.7152, 0.0722], names=['channels'])\n",
    "weights_named"
   ]
  },
  {
   "cell_type": "code",
   "execution_count": 22,
   "id": "7f983d1a",
   "metadata": {},
   "outputs": [
    {
     "name": "stdout",
     "output_type": "stream",
     "text": [
      "torch.Size([3, 5, 5]) ('channels', 'rows', 'cols')\n",
      "torch.Size([2, 3, 5, 5]) ('batch', 'channels', 'rows', 'cols')\n"
     ]
    }
   ],
   "source": [
    "# 텐서 먼저 만들고 나중에 이름 지정\n",
    "# ...를 사용하면 다른 차원은 건드리지 않는다.\n",
    "img_named = img_t.refine_names(..., 'channels', 'rows', 'cols')\n",
    "batch_named = batch_t.refine_names(..., 'batch', 'channels', 'rows', 'cols')\n",
    "\n",
    "print(img_named.shape, img_named.names)\n",
    "print(batch_named.shape, batch_named.names)"
   ]
  },
  {
   "cell_type": "code",
   "execution_count": 25,
   "id": "a9940124",
   "metadata": {},
   "outputs": [
    {
     "data": {
      "text/plain": [
       "(torch.Size([3, 1, 1]), ('channels', 'rows', 'cols'))"
      ]
     },
     "execution_count": 25,
     "metadata": {},
     "output_type": "execute_result"
    }
   ],
   "source": [
    "weights_aligned = weights_named.align_as(img_named)\n",
    "weights_aligned.shape, weights_aligned.names\n",
    "# 빠진 차원 채우고, 존재하는 차원을 올바른 순서로 바꿔줌\n",
    "# 원래 torch.Size([3])이었던 weights"
   ]
  },
  {
   "cell_type": "code",
   "execution_count": 28,
   "id": "9b670786",
   "metadata": {},
   "outputs": [
    {
     "data": {
      "text/plain": [
       "(torch.Size([5, 5]), ('rows', 'cols'))"
      ]
     },
     "execution_count": 28,
     "metadata": {},
     "output_type": "execute_result"
    }
   ],
   "source": [
    "# 차원 인수 허용하는 함수\n",
    "gray_named = (img_named * weights_aligned).sum('channels')\n",
    "gray_named.shape, gray_named.names"
   ]
  },
  {
   "cell_type": "code",
   "execution_count": 39,
   "id": "0253f996",
   "metadata": {},
   "outputs": [
    {
     "ename": "RuntimeError",
     "evalue": "Error when attempting to broadcast dims ['channels', 'rows', 'cols'] and dims ['channels']: dim 'cols' and dim 'channels' are at the same position from the right but do not match.",
     "output_type": "error",
     "traceback": [
      "\u001b[1;31m---------------------------------------------------------------------------\u001b[0m",
      "\u001b[1;31mRuntimeError\u001b[0m                              Traceback (most recent call last)",
      "Cell \u001b[1;32mIn[39], line 1\u001b[0m\n\u001b[1;32m----> 1\u001b[0m gray_named \u001b[38;5;241m=\u001b[39m (img_named[\u001b[38;5;241m.\u001b[39m\u001b[38;5;241m.\u001b[39m\u001b[38;5;241m.\u001b[39m, :\u001b[38;5;241m3\u001b[39m] \u001b[38;5;241m*\u001b[39m weights_named)\u001b[38;5;241m.\u001b[39msum(\u001b[38;5;124m'\u001b[39m\u001b[38;5;124mchannels\u001b[39m\u001b[38;5;124m'\u001b[39m)\n",
      "\u001b[1;31mRuntimeError\u001b[0m: Error when attempting to broadcast dims ['channels', 'rows', 'cols'] and dims ['channels']: dim 'cols' and dim 'channels' are at the same position from the right but do not match."
     ]
    }
   ],
   "source": [
    "gray_named = (img_named[..., :3] * weights_named).sum('channels')\n",
    "# 이름이 다른 차원 결합 : 오류 발생"
   ]
  },
  {
   "cell_type": "markdown",
   "id": "d37a7136",
   "metadata": {},
   "source": [
    "## 3.5 텐서 요소 타입"
   ]
  },
  {
   "cell_type": "markdown",
   "id": "34d833f2",
   "metadata": {},
   "source": [
    "### 3.5.1 dtype으로 숫자 타입 지정하기\n",
    "\n",
    "- torch.float32, torch.float : 32비트 단정밀도 부동소수 <'default'>\n",
    "- torch.float64 : 64비트 배정밀도 부동소수\n",
    "- torch.float16 : 16비트 반정밀도 부동소수\n",
    "  \n",
    "  \n",
    "- torch.int8 : 부호 있는 8비트 정수  \n",
    "- torch.uint8 : 부호 없는 8비트 정수  \n",
    "- torch.int16, torch.short : 부호 있는 16비트 정수  \n",
    "- torch.int32, torch.int : 부호 있는 32비트 정수  \n",
    "- torch.int64, torch.long : 부호 있는 64비트 정수"
   ]
  },
  {
   "cell_type": "markdown",
   "id": "ed30185e",
   "metadata": {},
   "source": [
    "### 3.5.3 텐서의 dtype 속성 관리"
   ]
  },
  {
   "cell_type": "code",
   "execution_count": 41,
   "id": "0a4867e0",
   "metadata": {},
   "outputs": [
    {
     "data": {
      "text/plain": [
       "torch.float64"
      ]
     },
     "execution_count": 41,
     "metadata": {},
     "output_type": "execute_result"
    }
   ],
   "source": [
    "double_points = torch.ones(10, 2, dtype=torch.double)\n",
    "double_points.dtype"
   ]
  },
  {
   "cell_type": "code",
   "execution_count": 43,
   "id": "ab975b05",
   "metadata": {},
   "outputs": [
    {
     "data": {
      "text/plain": [
       "torch.int16"
      ]
     },
     "execution_count": 43,
     "metadata": {},
     "output_type": "execute_result"
    }
   ],
   "source": [
    "short_points = torch.tensor([[1, 2], [3, 4]], dtype = torch.short)\n",
    "short_points.dtype"
   ]
  },
  {
   "cell_type": "code",
   "execution_count": 46,
   "id": "20c2a502",
   "metadata": {},
   "outputs": [
    {
     "data": {
      "text/plain": [
       "torch.float64"
      ]
     },
     "execution_count": 46,
     "metadata": {},
     "output_type": "execute_result"
    }
   ],
   "source": [
    "# 캐스팅 메소드\n",
    "double_points = torch.zeros(10, 2).double()\n",
    "double_points = torch.zeros(10, 2).to(torch.double)\n",
    "\n",
    "double_points.dtype"
   ]
  },
  {
   "cell_type": "code",
   "execution_count": 47,
   "id": "da46a3d8",
   "metadata": {},
   "outputs": [
    {
     "data": {
      "text/plain": [
       "tensor([0., 0., 0., 0., 0.], dtype=torch.float64)"
      ]
     },
     "execution_count": 47,
     "metadata": {},
     "output_type": "execute_result"
    }
   ],
   "source": [
    "# 여러 타입의 입력들이 연산을 거치며 서로 섞일 때, 자동으로 가장 큰 타입으로 만듬\n",
    "points_64 = torch.rand(5, dtype=torch.double) # torch.float64\n",
    "points_short = points_64.to(torch.short) # torch.int16\n",
    "points_64 * points_short"
   ]
  },
  {
   "cell_type": "markdown",
   "id": "8d9408dd",
   "metadata": {},
   "source": [
    "## 3.6 텐서 API"
   ]
  },
  {
   "cell_type": "code",
   "execution_count": 49,
   "id": "66cb34eb",
   "metadata": {},
   "outputs": [
    {
     "data": {
      "text/plain": [
       "(torch.Size([3, 2]), torch.Size([2, 3]))"
      ]
     },
     "execution_count": 49,
     "metadata": {},
     "output_type": "execute_result"
    }
   ],
   "source": [
    "a = torch.ones(3, 2)\n",
    "a_t = torch.transpose(a, 0, 1)\n",
    "a.shape, a_t.shape"
   ]
  },
  {
   "cell_type": "code",
   "execution_count": 53,
   "id": "2a420b47",
   "metadata": {},
   "outputs": [],
   "source": [
    "a_t = a.transpose(0, 1)"
   ]
  },
  {
   "cell_type": "markdown",
   "id": "f62d4ab8",
   "metadata": {},
   "source": [
    "## 3.7 텐서의 저장소 관점\n",
    "\n",
    "### 3.7.1 저장 공간 인덱싱"
   ]
  },
  {
   "cell_type": "code",
   "execution_count": 54,
   "id": "c62b0745",
   "metadata": {},
   "outputs": [
    {
     "name": "stderr",
     "output_type": "stream",
     "text": [
      "C:\\Users\\Public\\Documents\\ESTsoft\\CreatorTemp\\ipykernel_34520\\2923139482.py:2: UserWarning: TypedStorage is deprecated. It will be removed in the future and UntypedStorage will be the only storage class. This should only matter to you if you are using storages directly.  To access UntypedStorage directly, use tensor.untyped_storage() instead of tensor.storage()\n",
      "  points.storage()\n"
     ]
    },
    {
     "data": {
      "text/plain": [
       " 4.0\n",
       " 1.0\n",
       " 5.0\n",
       " 3.0\n",
       " 2.0\n",
       " 1.0\n",
       "[torch.storage.TypedStorage(dtype=torch.float32, device=cpu) of size 6]"
      ]
     },
     "execution_count": 54,
     "metadata": {},
     "output_type": "execute_result"
    }
   ],
   "source": [
    "points = torch.tensor([[4.0, 1.0], [5.0, 3.0], [2.0, 1.0]])\n",
    "points.storage()"
   ]
  },
  {
   "cell_type": "code",
   "execution_count": 56,
   "id": "3c0cb06d",
   "metadata": {},
   "outputs": [
    {
     "data": {
      "text/plain": [
       "5.0"
      ]
     },
     "execution_count": 56,
     "metadata": {},
     "output_type": "execute_result"
    }
   ],
   "source": [
    "points_storage = points.storage()\n",
    "points_storage[2]"
   ]
  },
  {
   "cell_type": "code",
   "execution_count": 57,
   "id": "78cb80b3",
   "metadata": {},
   "outputs": [
    {
     "data": {
      "text/plain": [
       "tensor([[2., 1.],\n",
       "        [5., 3.],\n",
       "        [2., 1.]])"
      ]
     },
     "execution_count": 57,
     "metadata": {},
     "output_type": "execute_result"
    }
   ],
   "source": [
    "points_storage[0] = 2.0\n",
    "points"
   ]
  },
  {
   "cell_type": "markdown",
   "id": "b7ecb748",
   "metadata": {},
   "source": [
    "### 3.7.2 저장된 값을 수정하기 : 텐서 내부 연산"
   ]
  },
  {
   "cell_type": "code",
   "execution_count": 58,
   "id": "b054845d",
   "metadata": {},
   "outputs": [
    {
     "data": {
      "text/plain": [
       "tensor([[0., 0.],\n",
       "        [0., 0.],\n",
       "        [0., 0.]])"
      ]
     },
     "execution_count": 58,
     "metadata": {},
     "output_type": "execute_result"
    }
   ],
   "source": [
    "a = torch.ones(3, 2)\n",
    "a.zero_()  # 모든 요소를 바꿔줌 ; _는 기존 텐서의 내용을 바꿈\n",
    "a"
   ]
  },
  {
   "cell_type": "markdown",
   "id": "aeafdbcc",
   "metadata": {},
   "source": [
    "## 3.8 텐서 메타데이터 : 사이즈, 오프셋, 스트라이드\n",
    "- 사이즈 : 텐서의 각 차원 별로 들어가는 요소의 수를 표시한 튜플\n",
    "- 저장 공간에 대한 오프셋 : 텐서의 첫 번째 요소를 가리키는 색인 값과 동일\n",
    "- 스트라이드 : 각 차원에서 다음 요소를 가리키고 싶을 때 실제 저장 공간상에서 몇 개의 요소를 건너뛰어야 하는지 알려줌\n",
    "\n",
    "### 3.8.1 다른 텐서의 저장 공간에 대한 뷰 만들기"
   ]
  },
  {
   "cell_type": "code",
   "execution_count": 62,
   "id": "8d8e3085",
   "metadata": {},
   "outputs": [
    {
     "data": {
      "text/plain": [
       "2"
      ]
     },
     "execution_count": 62,
     "metadata": {},
     "output_type": "execute_result"
    }
   ],
   "source": [
    "points = torch.tensor([[4.0, 1.0], [5.0, 3.0], [2.0, 1.0]])\n",
    "second_point = points[1]\n",
    "second_point.storage_offset() # 첫 번째 원소(5.0)가 storage에 저장되어 있는 인덱스"
   ]
  },
  {
   "cell_type": "code",
   "execution_count": 63,
   "id": "792ef7ec",
   "metadata": {},
   "outputs": [
    {
     "data": {
      "text/plain": [
       "torch.Size([2])"
      ]
     },
     "execution_count": 63,
     "metadata": {},
     "output_type": "execute_result"
    }
   ],
   "source": [
    "second_point.size() # 1차원이므로 size 클래스는 하나의 요소를 가지는 객체"
   ]
  },
  {
   "cell_type": "code",
   "execution_count": 64,
   "id": "a2d3c1e1",
   "metadata": {},
   "outputs": [
    {
     "data": {
      "text/plain": [
       "torch.Size([2])"
      ]
     },
     "execution_count": 64,
     "metadata": {},
     "output_type": "execute_result"
    }
   ],
   "source": [
    "second_point.shape"
   ]
  },
  {
   "cell_type": "code",
   "execution_count": 67,
   "id": "690cf994",
   "metadata": {},
   "outputs": [
    {
     "data": {
      "text/plain": [
       "(2, 1)"
      ]
     },
     "execution_count": 67,
     "metadata": {},
     "output_type": "execute_result"
    }
   ],
   "source": [
    "points.stride() # storage_offset + stride[0] * i + stide[1] * j"
   ]
  },
  {
   "cell_type": "code",
   "execution_count": 70,
   "id": "418f63a1",
   "metadata": {},
   "outputs": [
    {
     "data": {
      "text/plain": [
       "(1,)"
      ]
     },
     "execution_count": 70,
     "metadata": {},
     "output_type": "execute_result"
    }
   ],
   "source": [
    "second_point.stride()"
   ]
  },
  {
   "cell_type": "code",
   "execution_count": 72,
   "id": "bee414b5",
   "metadata": {},
   "outputs": [
    {
     "data": {
      "text/plain": [
       "tensor([[ 4.,  1.],\n",
       "        [10.,  3.],\n",
       "        [ 2.,  1.]])"
      ]
     },
     "execution_count": 72,
     "metadata": {},
     "output_type": "execute_result"
    }
   ],
   "source": [
    "second_points[0] = 10.0\n",
    "points  # 저장공간 바꾸면 원래 텐서도 바뀜"
   ]
  },
  {
   "cell_type": "code",
   "execution_count": 73,
   "id": "bdbdbfaa",
   "metadata": {},
   "outputs": [
    {
     "data": {
      "text/plain": [
       "tensor([[4., 1.],\n",
       "        [5., 3.],\n",
       "        [2., 1.]])"
      ]
     },
     "execution_count": 73,
     "metadata": {},
     "output_type": "execute_result"
    }
   ],
   "source": [
    "# 서브텐서를 새 텐서로 복제\n",
    "points = torch.tensor([[4.0, 1.0], [5.0, 3.0], [2.0, 1.0]])\n",
    "second_point = points[1].clone()\n",
    "second_point[0] = 10.0\n",
    "points # 바뀌지 않음"
   ]
  },
  {
   "cell_type": "markdown",
   "id": "0aa6df52",
   "metadata": {},
   "source": [
    "### 3.8.2 복사 없이 텐서 전치하기"
   ]
  },
  {
   "cell_type": "code",
   "execution_count": 19,
   "id": "6a9e2913",
   "metadata": {},
   "outputs": [
    {
     "data": {
      "text/plain": [
       "tensor([[4., 5., 2.],\n",
       "        [1., 3., 1.]])"
      ]
     },
     "execution_count": 19,
     "metadata": {},
     "output_type": "execute_result"
    }
   ],
   "source": [
    "points = torch.tensor([[4.0, 1.0], [5.0, 3.0], [2.0, 1.0]])\n",
    "points_t = points.t()\n",
    "points_t"
   ]
  },
  {
   "cell_type": "code",
   "execution_count": 79,
   "id": "f8559351",
   "metadata": {},
   "outputs": [
    {
     "data": {
      "text/plain": [
       "True"
      ]
     },
     "execution_count": 79,
     "metadata": {},
     "output_type": "execute_result"
    }
   ],
   "source": [
    "# 두 텐서가 같은 공간을 가리키고 있는지 확인\n",
    "id(points.storage()) == id(points_t.storage())"
   ]
  },
  {
   "cell_type": "code",
   "execution_count": 81,
   "id": "cf62e03e",
   "metadata": {},
   "outputs": [
    {
     "data": {
      "text/plain": [
       "((2, 1), (1, 2))"
      ]
     },
     "execution_count": 81,
     "metadata": {},
     "output_type": "execute_result"
    }
   ],
   "source": [
    "points.stride(), points_t.stride()"
   ]
  },
  {
   "cell_type": "markdown",
   "id": "2e0e92b9",
   "metadata": {},
   "source": [
    "### 3.8.3 더 높은 차원에서의 전치 연산"
   ]
  },
  {
   "cell_type": "code",
   "execution_count": 82,
   "id": "2efa5894",
   "metadata": {},
   "outputs": [
    {
     "data": {
      "text/plain": [
       "torch.Size([5, 4, 3])"
      ]
     },
     "execution_count": 82,
     "metadata": {},
     "output_type": "execute_result"
    }
   ],
   "source": [
    "some_t = torch.ones(3, 4, 5)\n",
    "transpose_t = some_t.transpose(0, 2)\n",
    "transpose_t.shape"
   ]
  },
  {
   "cell_type": "code",
   "execution_count": 85,
   "id": "d147cadc",
   "metadata": {},
   "outputs": [
    {
     "data": {
      "text/plain": [
       "((20, 5, 1), (1, 5, 20))"
      ]
     },
     "execution_count": 85,
     "metadata": {},
     "output_type": "execute_result"
    }
   ],
   "source": [
    "some_t.stride(), transpose_t.stride()"
   ]
  },
  {
   "cell_type": "markdown",
   "id": "0ae5da14",
   "metadata": {},
   "source": [
    "### 3.8.4 인접한(contiguous) 텐서\n",
    "- 인접한 텐서는 값 순회 시 띄엄띄엄 참조하지 않기에 데이터 지역성 관점에서 CPU 메모리 접근 효율이 좋다.\n",
    "- 텐서가 이미 인접한 상태라면 contiguous가 실제로 하는 일은 없고 성능에 지장을 주지도 않는다."
   ]
  },
  {
   "cell_type": "code",
   "execution_count": 87,
   "id": "9a9c5044",
   "metadata": {},
   "outputs": [
    {
     "data": {
      "text/plain": [
       "True"
      ]
     },
     "execution_count": 87,
     "metadata": {},
     "output_type": "execute_result"
    }
   ],
   "source": [
    "points.is_contiguous() # 연속된 텐서"
   ]
  },
  {
   "cell_type": "code",
   "execution_count": 88,
   "id": "4720f1e1",
   "metadata": {},
   "outputs": [
    {
     "data": {
      "text/plain": [
       "False"
      ]
     },
     "execution_count": 88,
     "metadata": {},
     "output_type": "execute_result"
    }
   ],
   "source": [
    "points_t.is_contiguous()"
   ]
  },
  {
   "cell_type": "code",
   "execution_count": 92,
   "id": "6a346909",
   "metadata": {},
   "outputs": [
    {
     "data": {
      "text/plain": [
       "tensor([[4., 5., 2.],\n",
       "        [1., 3., 1.]])"
      ]
     },
     "execution_count": 92,
     "metadata": {},
     "output_type": "execute_result"
    }
   ],
   "source": [
    "points_t_cont = points_t.contiguous() # 값은 동일하나 배치와 스트라이드가 바뀜\n",
    "points_t_cont"
   ]
  },
  {
   "cell_type": "code",
   "execution_count": 94,
   "id": "5ed48837",
   "metadata": {},
   "outputs": [
    {
     "data": {
      "text/plain": [
       "((1, 2), (3, 1))"
      ]
     },
     "execution_count": 94,
     "metadata": {},
     "output_type": "execute_result"
    }
   ],
   "source": [
    "points_t.stride(), points_t_cont.stride()"
   ]
  },
  {
   "cell_type": "markdown",
   "id": "be6e9519",
   "metadata": {},
   "source": [
    "## 3.9 텐서를 GPU로 옮기기\n",
    "\n",
    "### 3.9.1 텐서 디바이스 속성 관리\n",
    "** 나의 노트북은 cuda설치 불가능,, 외장 없어서.."
   ]
  },
  {
   "cell_type": "code",
   "execution_count": 5,
   "id": "29a7f8a5",
   "metadata": {},
   "outputs": [],
   "source": [
    "import torch"
   ]
  },
  {
   "cell_type": "code",
   "execution_count": 3,
   "id": "24071570",
   "metadata": {},
   "outputs": [],
   "source": [
    "device = \"cuda\" if torch.cuda.is_available() else \"cpu\""
   ]
  },
  {
   "cell_type": "code",
   "execution_count": 4,
   "id": "72c6a136",
   "metadata": {},
   "outputs": [
    {
     "name": "stdout",
     "output_type": "stream",
     "text": [
      "False\n"
     ]
    }
   ],
   "source": [
    "print(torch.cuda.is_available())"
   ]
  },
  {
   "cell_type": "code",
   "execution_count": null,
   "id": "d2e74131",
   "metadata": {},
   "outputs": [],
   "source": [
    "points_gpu = torch.tensor([[4.0, 1.0], [5.0, 3.0], [2.0, 1.0]], device='cuda')"
   ]
  },
  {
   "cell_type": "code",
   "execution_count": null,
   "id": "28b9478c",
   "metadata": {},
   "outputs": [],
   "source": [
    "points_gpu = points.to(device='cuda')"
   ]
  },
  {
   "cell_type": "code",
   "execution_count": 1,
   "id": "4106c76c",
   "metadata": {},
   "outputs": [],
   "source": [
    "points_gpu = points.to(device='cuda:0') # gpu를 0번부터 시작"
   ]
  },
  {
   "cell_type": "code",
   "execution_count": null,
   "id": "1333f3e1",
   "metadata": {},
   "outputs": [],
   "source": [
    "points = 2 * points # CPU에서 실행하는 곱셈\n",
    "points_gpu = 2 * points.to(device='cuda') # GPU에서 실행하는 곱셈"
   ]
  },
  {
   "cell_type": "code",
   "execution_count": null,
   "id": "c1e73fed",
   "metadata": {},
   "outputs": [],
   "source": [
    "# GPU에서의 연산은 CPU로 옮겨지지 않는다. 다시 CPU로 옮기려면\n",
    "points_cpu = points_gpu.to(device='cpu')"
   ]
  },
  {
   "cell_type": "code",
   "execution_count": null,
   "id": "58df7b84",
   "metadata": {},
   "outputs": [],
   "source": [
    "points_gpu = points.cuda() # 기본으로 0번 GPU에 복사\n",
    "points_gpu = points.cuda(0)\n",
    "points_cpu = points_gpu.cpu()"
   ]
  },
  {
   "cell_type": "markdown",
   "id": "91b1b32e",
   "metadata": {},
   "source": [
    "## 3.10 넘파이 호환"
   ]
  },
  {
   "cell_type": "code",
   "execution_count": 6,
   "id": "76f0eee6",
   "metadata": {},
   "outputs": [
    {
     "data": {
      "text/plain": [
       "array([[1., 1., 1., 1.],\n",
       "       [1., 1., 1., 1.],\n",
       "       [1., 1., 1., 1.]], dtype=float32)"
      ]
     },
     "execution_count": 6,
     "metadata": {},
     "output_type": "execute_result"
    }
   ],
   "source": [
    "points = torch.ones(3, 4)\n",
    "points_np = points.numpy()\n",
    "points_np"
   ]
  },
  {
   "cell_type": "code",
   "execution_count": 7,
   "id": "f9cda0d3",
   "metadata": {},
   "outputs": [
    {
     "data": {
      "text/plain": [
       "tensor([[1., 1., 1., 1.],\n",
       "        [1., 1., 1., 1.],\n",
       "        [1., 1., 1., 1.]])"
      ]
     },
     "execution_count": 7,
     "metadata": {},
     "output_type": "execute_result"
    }
   ],
   "source": [
    "# 넘파이 -> 텐서\n",
    "points = torch.from_numpy(points_np)\n",
    "points"
   ]
  },
  {
   "cell_type": "markdown",
   "id": "f4342999",
   "metadata": {},
   "source": [
    "## 3.12 텐서 직렬화"
   ]
  },
  {
   "cell_type": "code",
   "execution_count": 8,
   "id": "092bbb13",
   "metadata": {},
   "outputs": [],
   "source": [
    "# 우리의 points 텐서를 outpoints.t 파일에 저장\n",
    "torch.save(points, r'C:\\Users\\knuyh\\Desktop\\민지\\스터디\\파이토치 딥러닝 마스터\\Minji\\Part01\\CH03\\Data\\ourpoints.t')"
   ]
  },
  {
   "cell_type": "code",
   "execution_count": 9,
   "id": "4561dac6",
   "metadata": {},
   "outputs": [],
   "source": [
    "with open(r'C:\\Users\\knuyh\\Desktop\\민지\\스터디\\파이토치 딥러닝 마스터\\Minji\\Part01\\CH03\\Data\\ourpoints.t', 'wb') as f :\n",
    "    torch.save(points, f)"
   ]
  },
  {
   "cell_type": "code",
   "execution_count": 10,
   "id": "61f03e7a",
   "metadata": {},
   "outputs": [],
   "source": [
    "# 불러들이기\n",
    "points = torch.load(r'C:\\Users\\knuyh\\Desktop\\민지\\스터디\\파이토치 딥러닝 마스터\\Minji\\Part01\\CH03\\Data\\ourpoints.t')"
   ]
  },
  {
   "cell_type": "code",
   "execution_count": 11,
   "id": "d61ae575",
   "metadata": {},
   "outputs": [],
   "source": [
    "with open(r'C:\\Users\\knuyh\\Desktop\\민지\\스터디\\파이토치 딥러닝 마스터\\Minji\\Part01\\CH03\\Data\\ourpoints.t', 'rb') as f :\n",
    "    points = torch.load(f)"
   ]
  },
  {
   "cell_type": "markdown",
   "id": "1a06adb4",
   "metadata": {},
   "source": [
    "### 3.12.1 h5py로 HDF5 병렬화하기"
   ]
  },
  {
   "cell_type": "code",
   "execution_count": 12,
   "id": "0f0e7410",
   "metadata": {},
   "outputs": [],
   "source": [
    "import h5py"
   ]
  },
  {
   "cell_type": "code",
   "execution_count": 19,
   "id": "afe281ca",
   "metadata": {},
   "outputs": [],
   "source": [
    "f = h5py.File(r'C:\\Users\\knuyh\\Desktop\\민지\\스터디\\파이토치 딥러닝 마스터\\Minji\\Part01\\CH03\\Data\\ourpoints.hdf5', 'w')\n",
    "dset = f.create_dataset('coords', data=points.numpy()) # coords : 파일의 키\n",
    "f.close()"
   ]
  },
  {
   "cell_type": "code",
   "execution_count": 23,
   "id": "a767d388",
   "metadata": {},
   "outputs": [
    {
     "data": {
      "text/plain": [
       "array([[1., 1., 1., 1.],\n",
       "       [1., 1., 1., 1.]], dtype=float32)"
      ]
     },
     "execution_count": 23,
     "metadata": {},
     "output_type": "execute_result"
    }
   ],
   "source": [
    "# 데이터셋의 가장 뒤 포인트 두 개만 읽기\n",
    "f = h5py.File(r'C:\\Users\\knuyh\\Desktop\\민지\\스터디\\파이토치 딥러닝 마스터\\Minji\\Part01\\CH03\\Data\\ourpoints.hdf5', 'r')\n",
    "dset = f['coords']\n",
    "last_points = dset[-2:]\n",
    "last_points"
   ]
  },
  {
   "cell_type": "code",
   "execution_count": 24,
   "id": "c38e7b2b",
   "metadata": {},
   "outputs": [],
   "source": [
    "last_points = torch.from_numpy(dset[-2:]) # 곧바로 텐서 얻음\n",
    "f.close()"
   ]
  },
  {
   "cell_type": "code",
   "execution_count": 25,
   "id": "522c06c7",
   "metadata": {},
   "outputs": [
    {
     "data": {
      "text/plain": [
       "tensor([[1., 1., 1., 1.],\n",
       "        [1., 1., 1., 1.]])"
      ]
     },
     "execution_count": 25,
     "metadata": {},
     "output_type": "execute_result"
    }
   ],
   "source": [
    "last_points # close로 닫아도 텐서의 저장 공간으로 복사된 상태"
   ]
  },
  {
   "cell_type": "code",
   "execution_count": null,
   "id": "0f638209",
   "metadata": {},
   "outputs": [],
   "source": []
  }
 ],
 "metadata": {
  "kernelspec": {
   "display_name": "Python 3 (ipykernel)",
   "language": "python",
   "name": "python3"
  },
  "language_info": {
   "codemirror_mode": {
    "name": "ipython",
    "version": 3
   },
   "file_extension": ".py",
   "mimetype": "text/x-python",
   "name": "python",
   "nbconvert_exporter": "python",
   "pygments_lexer": "ipython3",
   "version": "3.11.4"
  }
 },
 "nbformat": 4,
 "nbformat_minor": 5
}
