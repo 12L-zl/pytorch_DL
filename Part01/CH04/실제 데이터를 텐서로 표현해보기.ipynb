{
 "cells": [
  {
   "cell_type": "markdown",
   "id": "7b348396",
   "metadata": {},
   "source": [
    "## 4.1 이미지 다루기\n",
    "\n",
    "### 4.1.2 이미지 파일 로딩"
   ]
  },
  {
   "cell_type": "code",
   "execution_count": 4,
   "id": "caf05883",
   "metadata": {
    "collapsed": true
   },
   "outputs": [
    {
     "name": "stdout",
     "output_type": "stream",
     "text": [
      "Collecting imageio\n",
      "  Downloading imageio-2.33.0-py3-none-any.whl.metadata (4.9 kB)\n",
      "Requirement already satisfied: numpy in c:\\users\\knuyh\\anaconda3\\envs\\pytorch\\lib\\site-packages (from imageio) (1.26.0)\n",
      "Requirement already satisfied: pillow>=8.3.2 in c:\\users\\knuyh\\anaconda3\\envs\\pytorch\\lib\\site-packages (from imageio) (10.0.1)\n",
      "Downloading imageio-2.33.0-py3-none-any.whl (313 kB)\n",
      "   ---------------------------------------- 0.0/313.3 kB ? eta -:--:--\n",
      "   ---------------------------------------- 0.0/313.3 kB ? eta -:--:--\n",
      "   - -------------------------------------- 10.2/313.3 kB ? eta -:--:--\n",
      "   --- ----------------------------------- 30.7/313.3 kB 435.7 kB/s eta 0:00:01\n",
      "   -------------------- ------------------- 163.8/313.3 kB 1.4 MB/s eta 0:00:01\n",
      "   ---------------------------------------- 313.3/313.3 kB 2.1 MB/s eta 0:00:00\n",
      "Installing collected packages: imageio\n",
      "Successfully installed imageio-2.33.0\n",
      "Note: you may need to restart the kernel to use updated packages.\n"
     ]
    },
    {
     "name": "stderr",
     "output_type": "stream",
     "text": [
      "  WARNING: The scripts imageio_download_bin.exe and imageio_remove_bin.exe are installed in 'C:\\Users\\knuyh\\anaconda3\\envs\\pytorch\\Scripts' which is not on PATH.\n",
      "  Consider adding this directory to PATH or, if you prefer to suppress this warning, use --no-warn-script-location.\n"
     ]
    }
   ],
   "source": [
    "pip install imageio"
   ]
  },
  {
   "cell_type": "code",
   "execution_count": 5,
   "id": "fd261c1f",
   "metadata": {},
   "outputs": [],
   "source": [
    "import torch\n",
    "import imageio # 데이터 타입 다룸"
   ]
  },
  {
   "cell_type": "code",
   "execution_count": 6,
   "id": "26d4546f",
   "metadata": {},
   "outputs": [
    {
     "name": "stderr",
     "output_type": "stream",
     "text": [
      "C:\\Users\\Public\\Documents\\ESTsoft\\CreatorTemp\\ipykernel_33048\\484643833.py:1: DeprecationWarning: Starting with ImageIO v3 the behavior of this function will switch to that of iio.v3.imread. To keep the current behavior (and make this warning disappear) use `import imageio.v2 as imageio` or call `imageio.v2.imread` directly.\n",
      "  img_arr = imageio.imread(r'C:\\Users\\knuyh\\Desktop\\민지\\스터디\\파이토치 딥러닝 마스터\\Minji\\Part01\\CH04\\Data\\bobby.jpg')\n"
     ]
    },
    {
     "data": {
      "text/plain": [
       "(720, 1280, 3)"
      ]
     },
     "execution_count": 6,
     "metadata": {},
     "output_type": "execute_result"
    }
   ],
   "source": [
    "img_arr = imageio.imread(r'C:\\Users\\knuyh\\Desktop\\민지\\스터디\\파이토치 딥러닝 마스터\\Minji\\Part01\\CH04\\Data\\bobby.jpg')\n",
    "img_arr.shape # H X W X C"
   ]
  },
  {
   "cell_type": "markdown",
   "id": "2e309b57",
   "metadata": {},
   "source": [
    "### 4.1.3 레이아웃 변경하기"
   ]
  },
  {
   "cell_type": "code",
   "execution_count": 9,
   "id": "725cf8ad",
   "metadata": {},
   "outputs": [
    {
     "data": {
      "text/plain": [
       "torch.Size([3, 720, 1280])"
      ]
     },
     "execution_count": 9,
     "metadata": {},
     "output_type": "execute_result"
    }
   ],
   "source": [
    "img = torch.from_numpy(img_arr)\n",
    "out = img.permute(2, 0, 1) # 저장 공간 동일하며 크기와 스트라이드만 변경\n",
    "out.shape # C X H X W"
   ]
  },
  {
   "cell_type": "code",
   "execution_count": 10,
   "id": "b1cf6166",
   "metadata": {},
   "outputs": [],
   "source": [
    "batch_size = 3\n",
    "batch = torch.zeros(batch_size, 3, 256, 256, dtype=torch.uint8)"
   ]
  },
  {
   "cell_type": "code",
   "execution_count": 13,
   "id": "7db32826",
   "metadata": {},
   "outputs": [],
   "source": [
    "import os\n",
    "dir = r'C:\\Users\\knuyh\\Desktop\\민지\\스터디\\파이토치 딥러닝 마스터\\Minji\\Part01\\CH04\\Data\\cat_image'\n",
    "# os.listdir(dir)  # ['cat1.png', 'cat2.png', 'cat3.png']\n",
    "# os.path.splitext('cat1.png')  # ('cat1', '.png')\n",
    "\n",
    "filenames = [name for name in os.listdir(dir) if os.path.splitext(name)[-1] == '.png']"
   ]
  },
  {
   "cell_type": "code",
   "execution_count": 15,
   "id": "8be895a9",
   "metadata": {},
   "outputs": [
    {
     "name": "stderr",
     "output_type": "stream",
     "text": [
      "C:\\Users\\Public\\Documents\\ESTsoft\\CreatorTemp\\ipykernel_33048\\3657093340.py:2: DeprecationWarning: Starting with ImageIO v3 the behavior of this function will switch to that of iio.v3.imread. To keep the current behavior (and make this warning disappear) use `import imageio.v2 as imageio` or call `imageio.v2.imread` directly.\n",
      "  img_arr = imageio.imread(os.path.join(dir, filename))\n"
     ]
    }
   ],
   "source": [
    "for i, filename in enumerate(filenames) :\n",
    "    img_arr = imageio.imread(os.path.join(dir, filename))\n",
    "    img_t = torch.from_numpy(img_arr)\n",
    "    img_t = img_t.permute(2, 0, 1)\n",
    "    img_t = img_t[:3] # RGB만 사용\n",
    "    batch[i] = img_t"
   ]
  },
  {
   "cell_type": "markdown",
   "id": "ef588277",
   "metadata": {},
   "source": [
    "### 4.1.4 데이터 정규화"
   ]
  },
  {
   "cell_type": "code",
   "execution_count": 18,
   "id": "aa1ecb55",
   "metadata": {},
   "outputs": [],
   "source": [
    "batch = batch.float()\n",
    "batch /= 255.0"
   ]
  },
  {
   "cell_type": "code",
   "execution_count": 23,
   "id": "a546f146",
   "metadata": {},
   "outputs": [
    {
     "data": {
      "text/plain": [
       "3"
      ]
     },
     "execution_count": 23,
     "metadata": {},
     "output_type": "execute_result"
    }
   ],
   "source": [
    "n_channels = batch.shape[1]\n",
    "n_channels"
   ]
  },
  {
   "cell_type": "code",
   "execution_count": 25,
   "id": "993a361d",
   "metadata": {},
   "outputs": [],
   "source": [
    "for c in range(n_channels) :\n",
    "    mean = torch.mean(batch[:, c])\n",
    "    std = torch.std(batch[:, c])\n",
    "    batch[:, c] = (batch[:, c] - mean) / std"
   ]
  },
  {
   "cell_type": "markdown",
   "id": "294bf66d",
   "metadata": {},
   "source": [
    "## 4.3 테이블 데이터 표현하기\n",
    "\n",
    "### 4.3.2 와인 데이터를 텐서로 읽어오기"
   ]
  },
  {
   "cell_type": "code",
   "execution_count": 27,
   "id": "0fa4bdd0",
   "metadata": {},
   "outputs": [
    {
     "data": {
      "text/plain": [
       "array([[ 7.  ,  0.27,  0.36, ...,  0.45,  8.8 ,  6.  ],\n",
       "       [ 6.3 ,  0.3 ,  0.34, ...,  0.49,  9.5 ,  6.  ],\n",
       "       [ 8.1 ,  0.28,  0.4 , ...,  0.44, 10.1 ,  6.  ],\n",
       "       ...,\n",
       "       [ 6.5 ,  0.24,  0.19, ...,  0.46,  9.4 ,  6.  ],\n",
       "       [ 5.5 ,  0.29,  0.3 , ...,  0.38, 12.8 ,  7.  ],\n",
       "       [ 6.  ,  0.21,  0.38, ...,  0.32, 11.8 ,  6.  ]], dtype=float32)"
      ]
     },
     "execution_count": 27,
     "metadata": {},
     "output_type": "execute_result"
    }
   ],
   "source": [
    "import csv\n",
    "import numpy as np\n",
    "wine_path = r'C:\\Users\\knuyh\\Desktop\\민지\\스터디\\파이토치 딥러닝 마스터\\Minji\\Part01\\CH04\\Data\\winequality-white.csv'\n",
    "wineq_numpy = np.loadtxt(wine_path, dtype=np.float32, delimiter=';', skiprows=1)\n",
    "wineq_numpy"
   ]
  },
  {
   "cell_type": "code",
   "execution_count": 29,
   "id": "03131a61",
   "metadata": {},
   "outputs": [
    {
     "data": {
      "text/plain": [
       "['fixed acidity',\n",
       " 'volatile acidity',\n",
       " 'citric acid',\n",
       " 'residual sugar',\n",
       " 'chlorides',\n",
       " 'free sulfur dioxide',\n",
       " 'total sulfur dioxide',\n",
       " 'density',\n",
       " 'pH',\n",
       " 'sulphates',\n",
       " 'alcohol',\n",
       " 'quality']"
      ]
     },
     "execution_count": 29,
     "metadata": {},
     "output_type": "execute_result"
    }
   ],
   "source": [
    "col_list = next(csv.reader(open(wine_path), delimiter=';'))\n",
    "col_list"
   ]
  },
  {
   "cell_type": "code",
   "execution_count": 31,
   "id": "f1208327",
   "metadata": {},
   "outputs": [
    {
     "data": {
      "text/plain": [
       "(torch.Size([4898, 12]), torch.float32)"
      ]
     },
     "execution_count": 31,
     "metadata": {},
     "output_type": "execute_result"
    }
   ],
   "source": [
    "wineq = torch.from_numpy(wineq_numpy)\n",
    "wineq.shape, wineq.dtype"
   ]
  },
  {
   "cell_type": "markdown",
   "id": "e43a0bc9",
   "metadata": {},
   "source": [
    "### 4.3.3 점수 표현하기"
   ]
  },
  {
   "cell_type": "code",
   "execution_count": 35,
   "id": "230b11b0",
   "metadata": {},
   "outputs": [],
   "source": [
    "data = wineq[:, :-1]\n",
    "target = wineq[:, -1].long()"
   ]
  },
  {
   "cell_type": "code",
   "execution_count": 34,
   "id": "f4bc6f29",
   "metadata": {},
   "outputs": [
    {
     "data": {
      "text/plain": [
       "tensor([6, 6, 6,  ..., 6, 7, 6])"
      ]
     },
     "execution_count": 34,
     "metadata": {},
     "output_type": "execute_result"
    }
   ],
   "source": [
    "target.long()"
   ]
  },
  {
   "cell_type": "markdown",
   "id": "8d7a13a3",
   "metadata": {},
   "source": [
    "### 4.3.4 원핫 인코딩"
   ]
  },
  {
   "cell_type": "code",
   "execution_count": 37,
   "id": "3ce37ce3",
   "metadata": {},
   "outputs": [
    {
     "data": {
      "text/plain": [
       "tensor([3, 4, 5, 6, 7, 8, 9])"
      ]
     },
     "execution_count": 37,
     "metadata": {},
     "output_type": "execute_result"
    }
   ],
   "source": [
    "target.unique()"
   ]
  },
  {
   "cell_type": "code",
   "execution_count": 40,
   "id": "28493cd8",
   "metadata": {},
   "outputs": [
    {
     "data": {
      "text/plain": [
       "tensor([[0., 0., 0.,  ..., 0., 0., 0.],\n",
       "        [0., 0., 0.,  ..., 0., 0., 0.],\n",
       "        [0., 0., 0.,  ..., 0., 0., 0.],\n",
       "        ...,\n",
       "        [0., 0., 0.,  ..., 0., 0., 0.],\n",
       "        [0., 0., 0.,  ..., 1., 0., 0.],\n",
       "        [0., 0., 0.,  ..., 0., 0., 0.]])"
      ]
     },
     "execution_count": 40,
     "metadata": {},
     "output_type": "execute_result"
    }
   ],
   "source": [
    "target_onehot = torch.zeros(target.shape[0], 10)\n",
    "target_onehot.scatter_(dim=1, index=target.unsqueeze(1), value=1.0)"
   ]
  },
  {
   "cell_type": "code",
   "execution_count": 41,
   "id": "7fe8517f",
   "metadata": {},
   "outputs": [
    {
     "data": {
      "text/plain": [
       "torch.Size([4898, 1])"
      ]
     },
     "execution_count": 41,
     "metadata": {},
     "output_type": "execute_result"
    }
   ],
   "source": [
    "target_unsqueezed = target.unsqueeze(1) # 싱글톤 차원 추가\n",
    "target_unsqueezed.shape"
   ]
  },
  {
   "cell_type": "markdown",
   "id": "f6e3b2f7",
   "metadata": {},
   "source": [
    "### 4.3.5 카테고리화"
   ]
  },
  {
   "cell_type": "code",
   "execution_count": 43,
   "id": "d316e55a",
   "metadata": {},
   "outputs": [],
   "source": [
    "data_mean = torch.mean(data, dim=0)\n",
    "data_var = torch.var(data, dim=0)"
   ]
  },
  {
   "cell_type": "code",
   "execution_count": 44,
   "id": "c0816abe",
   "metadata": {},
   "outputs": [],
   "source": [
    "data_normalized = (data - data_mean) / torch.sqrt(data_var) # 정규화"
   ]
  },
  {
   "cell_type": "markdown",
   "id": "a5c4d26b",
   "metadata": {},
   "source": [
    "### 4.3.6 임계값으로 찾기"
   ]
  },
  {
   "cell_type": "code",
   "execution_count": 45,
   "id": "8f5dddc2",
   "metadata": {},
   "outputs": [
    {
     "data": {
      "text/plain": [
       "(torch.Size([4898]), torch.bool, tensor(20))"
      ]
     },
     "execution_count": 45,
     "metadata": {},
     "output_type": "execute_result"
    }
   ],
   "source": [
    "bad_indexes = target <= 3\n",
    "bad_indexes.shape, bad_indexes.dtype, bad_indexes.sum()\n",
    "# True로 설정된 bad_indexes는 20개 뿐"
   ]
  },
  {
   "cell_type": "code",
   "execution_count": 46,
   "id": "bd2972a2",
   "metadata": {},
   "outputs": [
    {
     "data": {
      "text/plain": [
       "torch.Size([20, 11])"
      ]
     },
     "execution_count": 46,
     "metadata": {},
     "output_type": "execute_result"
    }
   ],
   "source": [
    "bad_data = data[bad_indexes]\n",
    "bad_data.shape"
   ]
  },
  {
   "cell_type": "code",
   "execution_count": 47,
   "id": "9b6a4011",
   "metadata": {},
   "outputs": [],
   "source": [
    "bad_data = data[target <= 3] # 나쁨 카테고리\n",
    "mid_data = data[(target > 3) & (target < 7)] # 보통 카테고리\n",
    "good_data = data[target >= 7] # 좋음 카테고리\n",
    "\n",
    "bad_mean = torch.mean(bad_data, dim=0)\n",
    "mid_mean = torch.mean(mid_data, dim=0)\n",
    "good_mean = torch.mean(good_data, dim=0)"
   ]
  },
  {
   "cell_type": "code",
   "execution_count": 48,
   "id": "29d7d56b",
   "metadata": {},
   "outputs": [
    {
     "name": "stdout",
     "output_type": "stream",
     "text": [
      " 0fixed acidity          7.60   6.89   6.73\n",
      " 1volatile acidity       0.33   0.28   0.27\n",
      " 2citric acid            0.34   0.34   0.33\n",
      " 3residual sugar         6.39   6.71   5.26\n",
      " 4chlorides              0.05   0.05   0.04\n",
      " 5free sulfur dioxide   53.33  35.42  34.55\n",
      " 6total sulfur dioxide 170.60 141.83 125.25\n",
      " 7density                0.99   0.99   0.99\n",
      " 8pH                     3.19   3.18   3.22\n",
      " 9sulphates              0.47   0.49   0.50\n",
      "10alcohol               10.34  10.26  11.42\n"
     ]
    }
   ],
   "source": [
    "for i, args in enumerate(zip(col_list, bad_mean, mid_mean, good_mean)) :\n",
    "    print('{:2}{:20} {:6.2f} {:6.2f} {:6.2f}'.format(i, *args))"
   ]
  },
  {
   "cell_type": "code",
   "execution_count": 49,
   "id": "2177f153",
   "metadata": {},
   "outputs": [
    {
     "data": {
      "text/plain": [
       "(torch.Size([4898]), torch.bool, tensor(2727))"
      ]
     },
     "execution_count": 49,
     "metadata": {},
     "output_type": "execute_result"
    }
   ],
   "source": [
    "total_sulfur_threshold = 141.83\n",
    "total_sulfur_data = data[:, 6]\n",
    "predicted_indexes = torch.lt(total_sulfur_data, total_sulfur_threshold)\n",
    "# 임계값보다 낮은 인덱스만 가져오기\n",
    "predicted_indexes.shape, predicted_indexes.dtype, predicted_indexes.sum()"
   ]
  },
  {
   "cell_type": "code",
   "execution_count": 52,
   "id": "8b9575b2",
   "metadata": {},
   "outputs": [
    {
     "data": {
      "text/plain": [
       "(torch.Size([4898]), torch.bool, tensor(3258))"
      ]
     },
     "execution_count": 52,
     "metadata": {},
     "output_type": "execute_result"
    }
   ],
   "source": [
    "actual_indexes = target > 5\n",
    "actual_indexes.shape, actual_indexes.dtype, actual_indexes.sum()"
   ]
  },
  {
   "cell_type": "code",
   "execution_count": 56,
   "id": "80180ec5",
   "metadata": {},
   "outputs": [
    {
     "data": {
      "text/plain": [
       "(2018, 0.74000733406674, 0.6193984039287906)"
      ]
     },
     "execution_count": 56,
     "metadata": {},
     "output_type": "execute_result"
    }
   ],
   "source": [
    "n_matches = torch.sum(actual_indexes & predicted_indexes).item()\n",
    "n_predicted = torch.sum(predicted_indexes).item()\n",
    "n_actual = torch.sum(actual_indexes).item()\n",
    "\n",
    "n_matches, n_matches/n_predicted, n_matches/n_actual"
   ]
  },
  {
   "cell_type": "markdown",
   "id": "8afee5eb",
   "metadata": {},
   "source": [
    "## 4.4 시계열 데이터 다루기\n",
    "\n",
    "### 4.4.1 시간 차원 더하기"
   ]
  },
  {
   "cell_type": "code",
   "execution_count": 62,
   "id": "f0e6bd65",
   "metadata": {},
   "outputs": [
    {
     "data": {
      "text/plain": [
       "tensor([[1.0000e+00, 1.0000e+00, 1.0000e+00,  ..., 3.0000e+00, 1.3000e+01,\n",
       "         1.6000e+01],\n",
       "        [2.0000e+00, 1.0000e+00, 1.0000e+00,  ..., 8.0000e+00, 3.2000e+01,\n",
       "         4.0000e+01],\n",
       "        [3.0000e+00, 1.0000e+00, 1.0000e+00,  ..., 5.0000e+00, 2.7000e+01,\n",
       "         3.2000e+01],\n",
       "        ...,\n",
       "        [1.7377e+04, 3.1000e+01, 1.0000e+00,  ..., 7.0000e+00, 8.3000e+01,\n",
       "         9.0000e+01],\n",
       "        [1.7378e+04, 3.1000e+01, 1.0000e+00,  ..., 1.3000e+01, 4.8000e+01,\n",
       "         6.1000e+01],\n",
       "        [1.7379e+04, 3.1000e+01, 1.0000e+00,  ..., 1.2000e+01, 3.7000e+01,\n",
       "         4.9000e+01]])"
      ]
     },
     "execution_count": 62,
     "metadata": {},
     "output_type": "execute_result"
    }
   ],
   "source": [
    "bikes_numpy = np.loadtxt(\n",
    "    r'C:\\Users\\knuyh\\Desktop\\민지\\스터디\\파이토치 딥러닝 마스터\\Minji\\Part01\\CH04\\Data\\hour-fixed.csv', \n",
    "    dtype=np.float32, \n",
    "    delimiter=\",\", \n",
    "    skiprows=1, \n",
    "    converters={1: lambda x: float(x[8:10])}) # 일자 문자열을 숫자로 변환\n",
    "bikes = torch.from_numpy(bikes_numpy)\n",
    "bikes"
   ]
  },
  {
   "cell_type": "markdown",
   "id": "e4aa902c",
   "metadata": {},
   "source": [
    "### 4.4.2 시간 단위로 데이터 만들기"
   ]
  },
  {
   "cell_type": "code",
   "execution_count": 63,
   "id": "6d0def7c",
   "metadata": {},
   "outputs": [
    {
     "data": {
      "text/plain": [
       "(torch.Size([17520, 17]), (17, 1))"
      ]
     },
     "execution_count": 63,
     "metadata": {},
     "output_type": "execute_result"
    }
   ],
   "source": [
    "bikes.shape, bikes.stride()"
   ]
  },
  {
   "cell_type": "code",
   "execution_count": 65,
   "id": "09a576a9",
   "metadata": {},
   "outputs": [
    {
     "data": {
      "text/plain": [
       "(torch.Size([730, 24, 17]), (408, 17, 1))"
      ]
     },
     "execution_count": 65,
     "metadata": {},
     "output_type": "execute_result"
    }
   ],
   "source": [
    "daily_bikes = bikes.view(-1, 24, bikes.shape[1]) # 17520시간 / 24시간 = 730일\n",
    "daily_bikes.shape, daily_bikes.stride()"
   ]
  },
  {
   "cell_type": "code",
   "execution_count": 66,
   "id": "ead59f02",
   "metadata": {},
   "outputs": [
    {
     "data": {
      "text/plain": [
       "(torch.Size([730, 17, 24]), (408, 1, 17))"
      ]
     },
     "execution_count": 66,
     "metadata": {},
     "output_type": "execute_result"
    }
   ],
   "source": [
    "daily_bikes = daily_bikes.transpose(1, 2) # N X C X L : C개의 채널을 가진 하루를 L시간으로 나눈 N개의 연속된 값\n",
    "daily_bikes.shape, daily_bikes.stride()"
   ]
  },
  {
   "cell_type": "markdown",
   "id": "fc258b1e",
   "metadata": {},
   "source": [
    "### 4.4.3 훈련 준비"
   ]
  },
  {
   "cell_type": "code",
   "execution_count": 70,
   "id": "778a2372",
   "metadata": {},
   "outputs": [
    {
     "data": {
      "text/plain": [
       "tensor([1, 1, 1, 1, 1, 2, 1, 1, 1, 1, 1, 1, 1, 2, 2, 2, 2, 2, 3, 3, 2, 2, 2, 2])"
      ]
     },
     "execution_count": 70,
     "metadata": {},
     "output_type": "execute_result"
    }
   ],
   "source": [
    "first_day = bikes[:24].long()  # torch.Size([24, 17])\n",
    "weather_onehot = torch.zeros(first_day.shape[0], 4)\n",
    "first_day[:, 9]"
   ]
  },
  {
   "cell_type": "code",
   "execution_count": 73,
   "id": "0e853b1e",
   "metadata": {
    "collapsed": true
   },
   "outputs": [
    {
     "data": {
      "text/plain": [
       "tensor([[1., 0., 0., 0.],\n",
       "        [1., 0., 0., 0.],\n",
       "        [1., 0., 0., 0.],\n",
       "        [1., 0., 0., 0.],\n",
       "        [1., 0., 0., 0.],\n",
       "        [0., 1., 0., 0.],\n",
       "        [1., 0., 0., 0.],\n",
       "        [1., 0., 0., 0.],\n",
       "        [1., 0., 0., 0.],\n",
       "        [1., 0., 0., 0.],\n",
       "        [1., 0., 0., 0.],\n",
       "        [1., 0., 0., 0.],\n",
       "        [1., 0., 0., 0.],\n",
       "        [0., 1., 0., 0.],\n",
       "        [0., 1., 0., 0.],\n",
       "        [0., 1., 0., 0.],\n",
       "        [0., 1., 0., 0.],\n",
       "        [0., 1., 0., 0.],\n",
       "        [0., 0., 1., 0.],\n",
       "        [0., 0., 1., 0.],\n",
       "        [0., 1., 0., 0.],\n",
       "        [0., 1., 0., 0.],\n",
       "        [0., 1., 0., 0.],\n",
       "        [0., 1., 0., 0.]])"
      ]
     },
     "execution_count": 73,
     "metadata": {},
     "output_type": "execute_result"
    }
   ],
   "source": [
    "weather_onehot.scatter_(dim=1, index=first_day[:, 9].unsqueeze(1).long() - 1, value=1.0)"
   ]
  },
  {
   "cell_type": "code",
   "execution_count": 78,
   "id": "12f11434",
   "metadata": {
    "collapsed": true
   },
   "outputs": [
    {
     "data": {
      "text/plain": [
       "tensor([[1.0000e+00, 1.0000e+00, 1.0000e+00, 0.0000e+00, 1.0000e+00, 0.0000e+00,\n",
       "         0.0000e+00, 6.0000e+00, 0.0000e+00, 1.0000e+00, 2.4000e-01, 2.8790e-01,\n",
       "         8.1000e-01, 0.0000e+00, 3.0000e+00, 1.3000e+01, 1.6000e+01, 1.0000e+00,\n",
       "         0.0000e+00, 0.0000e+00, 0.0000e+00],\n",
       "        [2.0000e+00, 1.0000e+00, 1.0000e+00, 0.0000e+00, 1.0000e+00, 1.0000e+00,\n",
       "         0.0000e+00, 6.0000e+00, 0.0000e+00, 1.0000e+00, 2.2000e-01, 2.7270e-01,\n",
       "         8.0000e-01, 0.0000e+00, 8.0000e+00, 3.2000e+01, 4.0000e+01, 1.0000e+00,\n",
       "         0.0000e+00, 0.0000e+00, 0.0000e+00],\n",
       "        [3.0000e+00, 1.0000e+00, 1.0000e+00, 0.0000e+00, 1.0000e+00, 2.0000e+00,\n",
       "         0.0000e+00, 6.0000e+00, 0.0000e+00, 1.0000e+00, 2.2000e-01, 2.7270e-01,\n",
       "         8.0000e-01, 0.0000e+00, 5.0000e+00, 2.7000e+01, 3.2000e+01, 1.0000e+00,\n",
       "         0.0000e+00, 0.0000e+00, 0.0000e+00],\n",
       "        [4.0000e+00, 1.0000e+00, 1.0000e+00, 0.0000e+00, 1.0000e+00, 3.0000e+00,\n",
       "         0.0000e+00, 6.0000e+00, 0.0000e+00, 1.0000e+00, 2.4000e-01, 2.8790e-01,\n",
       "         7.5000e-01, 0.0000e+00, 3.0000e+00, 1.0000e+01, 1.3000e+01, 1.0000e+00,\n",
       "         0.0000e+00, 0.0000e+00, 0.0000e+00],\n",
       "        [5.0000e+00, 1.0000e+00, 1.0000e+00, 0.0000e+00, 1.0000e+00, 4.0000e+00,\n",
       "         0.0000e+00, 6.0000e+00, 0.0000e+00, 1.0000e+00, 2.4000e-01, 2.8790e-01,\n",
       "         7.5000e-01, 0.0000e+00, 0.0000e+00, 1.0000e+00, 1.0000e+00, 1.0000e+00,\n",
       "         0.0000e+00, 0.0000e+00, 0.0000e+00],\n",
       "        [6.0000e+00, 1.0000e+00, 1.0000e+00, 0.0000e+00, 1.0000e+00, 5.0000e+00,\n",
       "         0.0000e+00, 6.0000e+00, 0.0000e+00, 2.0000e+00, 2.4000e-01, 2.5760e-01,\n",
       "         7.5000e-01, 8.9600e-02, 0.0000e+00, 1.0000e+00, 1.0000e+00, 0.0000e+00,\n",
       "         1.0000e+00, 0.0000e+00, 0.0000e+00],\n",
       "        [7.0000e+00, 1.0000e+00, 1.0000e+00, 0.0000e+00, 1.0000e+00, 6.0000e+00,\n",
       "         0.0000e+00, 6.0000e+00, 0.0000e+00, 1.0000e+00, 2.2000e-01, 2.7270e-01,\n",
       "         8.0000e-01, 0.0000e+00, 2.0000e+00, 0.0000e+00, 2.0000e+00, 1.0000e+00,\n",
       "         0.0000e+00, 0.0000e+00, 0.0000e+00],\n",
       "        [8.0000e+00, 1.0000e+00, 1.0000e+00, 0.0000e+00, 1.0000e+00, 7.0000e+00,\n",
       "         0.0000e+00, 6.0000e+00, 0.0000e+00, 1.0000e+00, 2.0000e-01, 2.5760e-01,\n",
       "         8.6000e-01, 0.0000e+00, 1.0000e+00, 2.0000e+00, 3.0000e+00, 1.0000e+00,\n",
       "         0.0000e+00, 0.0000e+00, 0.0000e+00],\n",
       "        [9.0000e+00, 1.0000e+00, 1.0000e+00, 0.0000e+00, 1.0000e+00, 8.0000e+00,\n",
       "         0.0000e+00, 6.0000e+00, 0.0000e+00, 1.0000e+00, 2.4000e-01, 2.8790e-01,\n",
       "         7.5000e-01, 0.0000e+00, 1.0000e+00, 7.0000e+00, 8.0000e+00, 1.0000e+00,\n",
       "         0.0000e+00, 0.0000e+00, 0.0000e+00],\n",
       "        [1.0000e+01, 1.0000e+00, 1.0000e+00, 0.0000e+00, 1.0000e+00, 9.0000e+00,\n",
       "         0.0000e+00, 6.0000e+00, 0.0000e+00, 1.0000e+00, 3.2000e-01, 3.4850e-01,\n",
       "         7.6000e-01, 0.0000e+00, 8.0000e+00, 6.0000e+00, 1.4000e+01, 1.0000e+00,\n",
       "         0.0000e+00, 0.0000e+00, 0.0000e+00],\n",
       "        [1.1000e+01, 1.0000e+00, 1.0000e+00, 0.0000e+00, 1.0000e+00, 1.0000e+01,\n",
       "         0.0000e+00, 6.0000e+00, 0.0000e+00, 1.0000e+00, 3.8000e-01, 3.9390e-01,\n",
       "         7.6000e-01, 2.5370e-01, 1.2000e+01, 2.4000e+01, 3.6000e+01, 1.0000e+00,\n",
       "         0.0000e+00, 0.0000e+00, 0.0000e+00],\n",
       "        [1.2000e+01, 1.0000e+00, 1.0000e+00, 0.0000e+00, 1.0000e+00, 1.1000e+01,\n",
       "         0.0000e+00, 6.0000e+00, 0.0000e+00, 1.0000e+00, 3.6000e-01, 3.3330e-01,\n",
       "         8.1000e-01, 2.8360e-01, 2.6000e+01, 3.0000e+01, 5.6000e+01, 1.0000e+00,\n",
       "         0.0000e+00, 0.0000e+00, 0.0000e+00],\n",
       "        [1.3000e+01, 1.0000e+00, 1.0000e+00, 0.0000e+00, 1.0000e+00, 1.2000e+01,\n",
       "         0.0000e+00, 6.0000e+00, 0.0000e+00, 1.0000e+00, 4.2000e-01, 4.2420e-01,\n",
       "         7.7000e-01, 2.8360e-01, 2.9000e+01, 5.5000e+01, 8.4000e+01, 1.0000e+00,\n",
       "         0.0000e+00, 0.0000e+00, 0.0000e+00],\n",
       "        [1.4000e+01, 1.0000e+00, 1.0000e+00, 0.0000e+00, 1.0000e+00, 1.3000e+01,\n",
       "         0.0000e+00, 6.0000e+00, 0.0000e+00, 2.0000e+00, 4.6000e-01, 4.5450e-01,\n",
       "         7.2000e-01, 2.9850e-01, 4.7000e+01, 4.7000e+01, 9.4000e+01, 0.0000e+00,\n",
       "         1.0000e+00, 0.0000e+00, 0.0000e+00],\n",
       "        [1.5000e+01, 1.0000e+00, 1.0000e+00, 0.0000e+00, 1.0000e+00, 1.4000e+01,\n",
       "         0.0000e+00, 6.0000e+00, 0.0000e+00, 2.0000e+00, 4.6000e-01, 4.5450e-01,\n",
       "         7.2000e-01, 2.8360e-01, 3.5000e+01, 7.1000e+01, 1.0600e+02, 0.0000e+00,\n",
       "         1.0000e+00, 0.0000e+00, 0.0000e+00],\n",
       "        [1.6000e+01, 1.0000e+00, 1.0000e+00, 0.0000e+00, 1.0000e+00, 1.5000e+01,\n",
       "         0.0000e+00, 6.0000e+00, 0.0000e+00, 2.0000e+00, 4.4000e-01, 4.3940e-01,\n",
       "         7.7000e-01, 2.9850e-01, 4.0000e+01, 7.0000e+01, 1.1000e+02, 0.0000e+00,\n",
       "         1.0000e+00, 0.0000e+00, 0.0000e+00],\n",
       "        [1.7000e+01, 1.0000e+00, 1.0000e+00, 0.0000e+00, 1.0000e+00, 1.6000e+01,\n",
       "         0.0000e+00, 6.0000e+00, 0.0000e+00, 2.0000e+00, 4.2000e-01, 4.2420e-01,\n",
       "         8.2000e-01, 2.9850e-01, 4.1000e+01, 5.2000e+01, 9.3000e+01, 0.0000e+00,\n",
       "         1.0000e+00, 0.0000e+00, 0.0000e+00],\n",
       "        [1.8000e+01, 1.0000e+00, 1.0000e+00, 0.0000e+00, 1.0000e+00, 1.7000e+01,\n",
       "         0.0000e+00, 6.0000e+00, 0.0000e+00, 2.0000e+00, 4.4000e-01, 4.3940e-01,\n",
       "         8.2000e-01, 2.8360e-01, 1.5000e+01, 5.2000e+01, 6.7000e+01, 0.0000e+00,\n",
       "         1.0000e+00, 0.0000e+00, 0.0000e+00],\n",
       "        [1.9000e+01, 1.0000e+00, 1.0000e+00, 0.0000e+00, 1.0000e+00, 1.8000e+01,\n",
       "         0.0000e+00, 6.0000e+00, 0.0000e+00, 3.0000e+00, 4.2000e-01, 4.2420e-01,\n",
       "         8.8000e-01, 2.5370e-01, 9.0000e+00, 2.6000e+01, 3.5000e+01, 0.0000e+00,\n",
       "         0.0000e+00, 1.0000e+00, 0.0000e+00],\n",
       "        [2.0000e+01, 1.0000e+00, 1.0000e+00, 0.0000e+00, 1.0000e+00, 1.9000e+01,\n",
       "         0.0000e+00, 6.0000e+00, 0.0000e+00, 3.0000e+00, 4.2000e-01, 4.2420e-01,\n",
       "         8.8000e-01, 2.5370e-01, 6.0000e+00, 3.1000e+01, 3.7000e+01, 0.0000e+00,\n",
       "         0.0000e+00, 1.0000e+00, 0.0000e+00],\n",
       "        [2.1000e+01, 1.0000e+00, 1.0000e+00, 0.0000e+00, 1.0000e+00, 2.0000e+01,\n",
       "         0.0000e+00, 6.0000e+00, 0.0000e+00, 2.0000e+00, 4.0000e-01, 4.0910e-01,\n",
       "         8.7000e-01, 2.5370e-01, 1.1000e+01, 2.5000e+01, 3.6000e+01, 0.0000e+00,\n",
       "         1.0000e+00, 0.0000e+00, 0.0000e+00],\n",
       "        [2.2000e+01, 1.0000e+00, 1.0000e+00, 0.0000e+00, 1.0000e+00, 2.1000e+01,\n",
       "         0.0000e+00, 6.0000e+00, 0.0000e+00, 2.0000e+00, 4.0000e-01, 4.0910e-01,\n",
       "         8.7000e-01, 1.9400e-01, 3.0000e+00, 3.1000e+01, 3.4000e+01, 0.0000e+00,\n",
       "         1.0000e+00, 0.0000e+00, 0.0000e+00],\n",
       "        [2.3000e+01, 1.0000e+00, 1.0000e+00, 0.0000e+00, 1.0000e+00, 2.2000e+01,\n",
       "         0.0000e+00, 6.0000e+00, 0.0000e+00, 2.0000e+00, 4.0000e-01, 4.0910e-01,\n",
       "         9.4000e-01, 2.2390e-01, 1.1000e+01, 1.7000e+01, 2.8000e+01, 0.0000e+00,\n",
       "         1.0000e+00, 0.0000e+00, 0.0000e+00],\n",
       "        [2.4000e+01, 1.0000e+00, 1.0000e+00, 0.0000e+00, 1.0000e+00, 2.3000e+01,\n",
       "         0.0000e+00, 6.0000e+00, 0.0000e+00, 2.0000e+00, 4.6000e-01, 4.5450e-01,\n",
       "         8.8000e-01, 2.9850e-01, 1.5000e+01, 2.4000e+01, 3.9000e+01, 0.0000e+00,\n",
       "         1.0000e+00, 0.0000e+00, 0.0000e+00]])"
      ]
     },
     "execution_count": 78,
     "metadata": {},
     "output_type": "execute_result"
    }
   ],
   "source": [
    "torch.cat((bikes[:24], weather_onehot), dim=1) # torch.Size([24, 21])"
   ]
  },
  {
   "cell_type": "code",
   "execution_count": 79,
   "id": "6371d7cb",
   "metadata": {},
   "outputs": [
    {
     "data": {
      "text/plain": [
       "torch.Size([730, 4, 24])"
      ]
     },
     "execution_count": 79,
     "metadata": {},
     "output_type": "execute_result"
    }
   ],
   "source": [
    "daily_weather_onehot = torch.zeros(daily_bikes.shape[0], 4, daily_bikes.shape[2])\n",
    "daily_weather_onehot.shape"
   ]
  },
  {
   "cell_type": "code",
   "execution_count": 80,
   "id": "5e851bab",
   "metadata": {},
   "outputs": [
    {
     "data": {
      "text/plain": [
       "torch.Size([730, 4, 24])"
      ]
     },
     "execution_count": 80,
     "metadata": {},
     "output_type": "execute_result"
    }
   ],
   "source": [
    "daily_weather_onehot.scatter_(dim=1, index=daily_bikes[:,9,:].long().unsqueeze(1)-1, value=1.0)\n",
    "daily_weather_onehot.shape"
   ]
  },
  {
   "cell_type": "code",
   "execution_count": 84,
   "id": "29553b39",
   "metadata": {},
   "outputs": [
    {
     "data": {
      "text/plain": [
       "torch.Size([730, 25, 24])"
      ]
     },
     "execution_count": 84,
     "metadata": {},
     "output_type": "execute_result"
    }
   ],
   "source": [
    "daily_bikes = torch.cat((daily_bikes, daily_weather_onehot), dim=1)\n",
    "daily_bikes.shape"
   ]
  },
  {
   "cell_type": "code",
   "execution_count": 85,
   "id": "d9dddd11",
   "metadata": {},
   "outputs": [],
   "source": [
    "# 0.0 -> 1.0 값 변환\n",
    "daily_bikes[:,9,:] = (daily_bikes[:,9,:] - 1.0) / 3.0"
   ]
  },
  {
   "cell_type": "code",
   "execution_count": 86,
   "id": "bed786a3",
   "metadata": {},
   "outputs": [],
   "source": [
    "temp = daily_bikes[:, 10, :]\n",
    "temp_min = torch.min(temp)\n",
    "temp_max = torch.max(temp)\n",
    "daily_bikes[:,10,:] = ((daily_bikes[:,10,:] - temp_min)/(temp_max-temp_min))\n",
    "\n",
    "# daily_bikes[:,10,:] = ((daily_bikes[:,10,:] - torch.mean(temp)) / torch.std(temp))"
   ]
  },
  {
   "cell_type": "markdown",
   "id": "264ce162",
   "metadata": {},
   "source": [
    "## 4.5 텍스트 표현하기\n",
    "\n",
    "### 4.5.1 텍스트를 숫자로 변환하기"
   ]
  },
  {
   "cell_type": "code",
   "execution_count": 87,
   "id": "a400346c",
   "metadata": {},
   "outputs": [],
   "source": [
    "with open(r'C:\\Users\\knuyh\\Desktop\\민지\\스터디\\파이토치 딥러닝 마스터\\Minji\\Part01\\CH04\\Data\\1342-0.txt', encoding='utf8') as f :\n",
    "    text = f.read()"
   ]
  },
  {
   "cell_type": "markdown",
   "id": "b74398ac",
   "metadata": {},
   "source": [
    "### 4.5.2 문자 원핫 인코딩"
   ]
  },
  {
   "cell_type": "code",
   "execution_count": 88,
   "id": "5ad49cf6",
   "metadata": {},
   "outputs": [
    {
     "data": {
      "text/plain": [
       "'“Impossible, Mr. Bennet, impossible, when I am not acquainted with him'"
      ]
     },
     "execution_count": 88,
     "metadata": {},
     "output_type": "execute_result"
    }
   ],
   "source": [
    "lines = text.split('\\n')\n",
    "line = lines[200]\n",
    "line"
   ]
  },
  {
   "cell_type": "code",
   "execution_count": 89,
   "id": "d53bd5e7",
   "metadata": {},
   "outputs": [
    {
     "data": {
      "text/plain": [
       "torch.Size([70, 128])"
      ]
     },
     "execution_count": 89,
     "metadata": {},
     "output_type": "execute_result"
    }
   ],
   "source": [
    "# 행 전체의 문자를 원핫 인코딩한 문자의 총 수를 담을 텐서(행마다 원핫 인코딩된 문자 하나)\n",
    "letter_t = torch.zeros(len(line), 128) # ASCII 제한인 128로 하드코딩\n",
    "letter_t.shape"
   ]
  },
  {
   "cell_type": "code",
   "execution_count": 96,
   "id": "05d6b220",
   "metadata": {},
   "outputs": [],
   "source": [
    "for i, letter in enumerate(line.lower().strip()) :\n",
    "    letter_index = ord(letter) if ord(letter) < 128 else 0\n",
    "    letter_t[i][letter_index] = 1"
   ]
  },
  {
   "cell_type": "markdown",
   "id": "f06d7359",
   "metadata": {},
   "source": [
    "### 4.5.3 모든 단어를 원핫 인코딩하기"
   ]
  },
  {
   "cell_type": "code",
   "execution_count": 115,
   "id": "80f9c831",
   "metadata": {},
   "outputs": [],
   "source": [
    "# 구두점 제거\n",
    "def clean_words(input_str) :\n",
    "    punctuation = '.,;:\"!?”“_-'\n",
    "    word_list = input_str.lower().replace('\\n', ' ').split()\n",
    "    word_list = [word.strip(punctuation) for word in word_list]\n",
    "    return word_list"
   ]
  },
  {
   "cell_type": "code",
   "execution_count": 116,
   "id": "eec5b023",
   "metadata": {},
   "outputs": [
    {
     "data": {
      "text/plain": [
       "('“Impossible, Mr. Bennet, impossible, when I am not acquainted with him',\n",
       " ['impossible',\n",
       "  'mr',\n",
       "  'bennet',\n",
       "  'impossible',\n",
       "  'when',\n",
       "  'i',\n",
       "  'am',\n",
       "  'not',\n",
       "  'acquainted',\n",
       "  'with',\n",
       "  'him'])"
      ]
     },
     "execution_count": 116,
     "metadata": {},
     "output_type": "execute_result"
    }
   ],
   "source": [
    "words_in_line = clean_words(line)\n",
    "line, words_in_line"
   ]
  },
  {
   "cell_type": "code",
   "execution_count": 117,
   "id": "1545f6f4",
   "metadata": {},
   "outputs": [],
   "source": [
    "word_list = sorted(set(clean_words(text)))\n",
    "word2index_dict = {word:i for (i, word) in enumerate(word_list)}"
   ]
  },
  {
   "cell_type": "code",
   "execution_count": 118,
   "id": "c6a36393",
   "metadata": {},
   "outputs": [
    {
     "data": {
      "text/plain": [
       "(7261, 3394)"
      ]
     },
     "execution_count": 118,
     "metadata": {},
     "output_type": "execute_result"
    }
   ],
   "source": [
    "len(word2index_dict), word2index_dict['impossible']"
   ]
  },
  {
   "cell_type": "code",
   "execution_count": 122,
   "id": "db3a50d9",
   "metadata": {},
   "outputs": [
    {
     "name": "stdout",
     "output_type": "stream",
     "text": [
      " 0 3394 impossible\n",
      " 1 4305 mr\n",
      " 2  813 bennet\n",
      " 3 3394 impossible\n",
      " 4 7078 when\n",
      " 5 3315 i\n",
      " 6  415 am\n",
      " 7 4436 not\n",
      " 8  239 acquainted\n",
      " 9 7148 with\n",
      "10 3215 him\n"
     ]
    }
   ],
   "source": [
    "word_t = torch.zeros(len(words_in_line), len(word2index_dict)) # torch.Size([11, 7261])\n",
    "for i, word in enumerate(words_in_line) :\n",
    "    word_index = word2index_dict[word]\n",
    "    word_t[i][word_index] = 1\n",
    "    print('{:2} {:4} {}'.format(i, word_index, word))"
   ]
  },
  {
   "cell_type": "code",
   "execution_count": null,
   "id": "9688de8e",
   "metadata": {},
   "outputs": [],
   "source": []
  }
 ],
 "metadata": {
  "kernelspec": {
   "display_name": "PyTorch",
   "language": "python",
   "name": "pytorch"
  },
  "language_info": {
   "codemirror_mode": {
    "name": "ipython",
    "version": 3
   },
   "file_extension": ".py",
   "mimetype": "text/x-python",
   "name": "python",
   "nbconvert_exporter": "python",
   "pygments_lexer": "ipython3",
   "version": "3.11.5"
  }
 },
 "nbformat": 4,
 "nbformat_minor": 5
}
