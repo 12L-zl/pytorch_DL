{
 "cells": [
  {
   "cell_type": "markdown",
   "id": "6e498f21",
   "metadata": {},
   "source": [
    "## 6.1 인공 뉴런\n",
    "\n",
    "[활성화함수]\n",
    "- 비선형이다.\n",
    "- 미분 가능하다. 기울기 계산이 가능해진다. Hardtanh나 ReLU에서 볼 수 있는 불연속점은 큰 문제가 되지 않는다.\n",
    "\n",
    "## 6.2 파이토치 nn 모듈\n",
    "\n",
    "### 6.2.1 forward 대신 __call__ 사용하기\n",
    "\n",
    "- nn.Module 인스턴스 호출하면, 동일한 인자로 forward 호출한다.\n",
    "    * forward : 순방향 연산을 수행\n",
    "    * __call__ : forward 호출하기 전후에 몇 가지 중요한 작업 수행\n",
    "\n",
    "y = model(x)  \n",
    "y = model.forward(x)  <- 이렇게 하지말자 !"
   ]
  },
  {
   "cell_type": "code",
   "execution_count": 2,
   "id": "daba57a4",
   "metadata": {},
   "outputs": [],
   "source": [
    "import torch\n",
    "import torch.nn as nn"
   ]
  },
  {
   "cell_type": "code",
   "execution_count": 3,
   "id": "5d6171ba",
   "metadata": {},
   "outputs": [
    {
     "data": {
      "text/plain": [
       "torch.Size([11, 1])"
      ]
     },
     "execution_count": 3,
     "metadata": {},
     "output_type": "execute_result"
    }
   ],
   "source": [
    "t_c = [0.5,  14.0, 15.0, 28.0, 11.0,  8.0,  3.0, -4.0,  6.0, 13.0, 21.0]\n",
    "t_u = [35.7, 55.9, 58.2, 81.9, 56.3, 48.9, 33.9, 21.8, 48.4, 60.4, 68.4]\n",
    "t_c = torch.tensor(t_c).unsqueeze(1)  # B X Nin으로 reshape\n",
    "t_u = torch.tensor(t_u).unsqueeze(1)\n",
    "\n",
    "t_u.shape"
   ]
  },
  {
   "cell_type": "code",
   "execution_count": 4,
   "id": "f3b772f1",
   "metadata": {},
   "outputs": [
    {
     "data": {
      "text/plain": [
       "(tensor([5, 6, 2, 7, 9, 3, 0, 4, 1]), tensor([10,  8]))"
      ]
     },
     "execution_count": 4,
     "metadata": {},
     "output_type": "execute_result"
    }
   ],
   "source": [
    "n_samples = t_u.shape[0]\n",
    "n_val = int(0.2 * n_samples)\n",
    "\n",
    "shuffled_indices = torch.randperm(n_samples)\n",
    "\n",
    "train_indices = shuffled_indices[:-n_val]\n",
    "val_indices = shuffled_indices[-n_val:]\n",
    "\n",
    "train_indices, val_indices"
   ]
  },
  {
   "cell_type": "code",
   "execution_count": 5,
   "id": "fa9fe008",
   "metadata": {},
   "outputs": [],
   "source": [
    "t_u_train = t_u[train_indices]\n",
    "t_c_train = t_c[train_indices]\n",
    "\n",
    "t_u_val = t_u[val_indices]\n",
    "t_c_val = t_c[val_indices]\n",
    "\n",
    "t_un_train = 0.1 * t_u_train\n",
    "t_un_val = 0.1 * t_u_val"
   ]
  },
  {
   "cell_type": "code",
   "execution_count": 6,
   "id": "826d59da",
   "metadata": {},
   "outputs": [
    {
     "data": {
      "text/plain": [
       "tensor([[-3.0799],\n",
       "        [-2.3856]], grad_fn=<AddmmBackward0>)"
      ]
     },
     "execution_count": 6,
     "metadata": {},
     "output_type": "execute_result"
    }
   ],
   "source": [
    "linear_model = nn.Linear(1, 1)\n",
    "linear_model(t_un_val)"
   ]
  },
  {
   "cell_type": "code",
   "execution_count": 7,
   "id": "3ce165ae",
   "metadata": {},
   "outputs": [
    {
     "data": {
      "text/plain": [
       "(Parameter containing:\n",
       " tensor([[-0.3471]], requires_grad=True),\n",
       " Parameter containing:\n",
       " tensor([-0.7055], requires_grad=True))"
      ]
     },
     "execution_count": 7,
     "metadata": {},
     "output_type": "execute_result"
    }
   ],
   "source": [
    "linear_model.weight, linear_model.bias"
   ]
  },
  {
   "cell_type": "markdown",
   "id": "676465f6",
   "metadata": {},
   "source": [
    "### 6.2.2 선형 모델\n",
    "- nn.Linear 생성자는 세 개의 인자\n",
    "    * 입력 피처의 수\n",
    "    * 출력 피처의 수\n",
    "    * 선형 모델이 편향값을 포함하는지 여부 (기본값 True)"
   ]
  },
  {
   "cell_type": "code",
   "execution_count": 8,
   "id": "7669d376",
   "metadata": {},
   "outputs": [],
   "source": [
    "import torch.nn as nn"
   ]
  },
  {
   "cell_type": "code",
   "execution_count": 9,
   "id": "ee74e358",
   "metadata": {},
   "outputs": [
    {
     "data": {
      "text/plain": [
       "tensor([[6.3460],\n",
       "        [4.6559]], grad_fn=<AddmmBackward0>)"
      ]
     },
     "execution_count": 9,
     "metadata": {},
     "output_type": "execute_result"
    }
   ],
   "source": [
    "linear_model = nn.Linear(1, 1) # 입력 크기, 출력 크기\n",
    "linear_model(t_un_val)"
   ]
  },
  {
   "cell_type": "code",
   "execution_count": 10,
   "id": "f804fedc",
   "metadata": {},
   "outputs": [
    {
     "data": {
      "text/plain": [
       "Parameter containing:\n",
       "tensor([[0.8450]], requires_grad=True)"
      ]
     },
     "execution_count": 10,
     "metadata": {},
     "output_type": "execute_result"
    }
   ],
   "source": [
    "linear_model.weight"
   ]
  },
  {
   "cell_type": "code",
   "execution_count": 11,
   "id": "5f348ea8",
   "metadata": {},
   "outputs": [
    {
     "data": {
      "text/plain": [
       "Parameter containing:\n",
       "tensor([0.5659], requires_grad=True)"
      ]
     },
     "execution_count": 11,
     "metadata": {},
     "output_type": "execute_result"
    }
   ],
   "source": [
    "linear_model.bias"
   ]
  },
  {
   "cell_type": "code",
   "execution_count": 12,
   "id": "74464ae2",
   "metadata": {},
   "outputs": [
    {
     "data": {
      "text/plain": [
       "tensor([1.4109], grad_fn=<ViewBackward0>)"
      ]
     },
     "execution_count": 12,
     "metadata": {},
     "output_type": "execute_result"
    }
   ],
   "source": [
    "# 입력값으로 모듈 호출\n",
    "x = torch.ones(1)\n",
    "linear_model(x)"
   ]
  },
  {
   "cell_type": "code",
   "execution_count": 13,
   "id": "c0c8d020",
   "metadata": {},
   "outputs": [
    {
     "data": {
      "text/plain": [
       "tensor([[1.4109],\n",
       "        [1.4109],\n",
       "        [1.4109],\n",
       "        [1.4109],\n",
       "        [1.4109],\n",
       "        [1.4109],\n",
       "        [1.4109],\n",
       "        [1.4109],\n",
       "        [1.4109],\n",
       "        [1.4109]], grad_fn=<AddmmBackward0>)"
      ]
     },
     "execution_count": 13,
     "metadata": {},
     "output_type": "execute_result"
    }
   ],
   "source": [
    "# 배치 입력 만들기\n",
    "# B : 배치 크기, Nin : 입력 피처 크기 -> B X Nin인 입력 텐서\n",
    "x = torch.ones(10, 1)\n",
    "linear_model(x)"
   ]
  },
  {
   "cell_type": "code",
   "execution_count": 14,
   "id": "362bdc82",
   "metadata": {},
   "outputs": [],
   "source": [
    "# 배치 최적화\n",
    "import torch.optim as optim\n",
    "\n",
    "linear_model = nn.Linear(1, 1)\n",
    "optimizer = optim.SGD(linear_model.parameters(), lr = 1e-2)"
   ]
  },
  {
   "cell_type": "code",
   "execution_count": 15,
   "id": "044fb060",
   "metadata": {},
   "outputs": [
    {
     "data": {
      "text/plain": [
       "<generator object Module.parameters at 0x000001B543324BA0>"
      ]
     },
     "execution_count": 15,
     "metadata": {},
     "output_type": "execute_result"
    }
   ],
   "source": [
    "linear_model.parameters()"
   ]
  },
  {
   "cell_type": "code",
   "execution_count": 16,
   "id": "80c4d9c2",
   "metadata": {},
   "outputs": [
    {
     "data": {
      "text/plain": [
       "[Parameter containing:\n",
       " tensor([[-0.0955]], requires_grad=True),\n",
       " Parameter containing:\n",
       " tensor([0.6270], requires_grad=True)]"
      ]
     },
     "execution_count": 16,
     "metadata": {},
     "output_type": "execute_result"
    }
   ],
   "source": [
    "list(linear_model.parameters())"
   ]
  },
  {
   "cell_type": "code",
   "execution_count": 17,
   "id": "4cb484a0",
   "metadata": {},
   "outputs": [],
   "source": [
    "def training_loop(n_epochs, optimizer, model, loss_fn, t_u_train, t_u_val, t_c_train, t_c_val) :\n",
    "    for epoch in range(1, n_epochs + 1) :\n",
    "        t_p_train = model(t_u_train)\n",
    "        loss_train = loss_fn(t_p_train, t_c_train)\n",
    "        \n",
    "        t_p_val = model(t_u_val)\n",
    "        loss_val = loss_fn(t_p_val, t_c_val)\n",
    "        \n",
    "        optimizer.zero_grad()\n",
    "        loss_train.backward()\n",
    "        optimizer.step()\n",
    "        \n",
    "        if epoch==1 or epoch % 1000 == 0 :\n",
    "            print(f\"Epoch {epoch}, Training loss {loss_train.item():.4f},\"\n",
    "                  f\" Validation loss {loss_val.item():.4f}\")"
   ]
  },
  {
   "cell_type": "code",
   "execution_count": 18,
   "id": "0e664a35",
   "metadata": {},
   "outputs": [
    {
     "name": "stdout",
     "output_type": "stream",
     "text": [
      "Epoch 1, Training loss 175.9975, Validation loss 238.0677\n",
      "Epoch 1000, Training loss 3.0792, Validation loss 7.5947\n",
      "Epoch 2000, Training loss 2.4508, Validation loss 5.7278\n",
      "Epoch 3000, Training loss 2.4377, Validation loss 5.4851\n"
     ]
    }
   ],
   "source": [
    "training_loop(n_epochs=3000, optimizer=optimizer, model=linear_model, loss_fn = nn.MSELoss(),\n",
    "             t_u_train = t_un_train, t_u_val = t_un_val, t_c_train=t_c_train, t_c_val=t_c_val)"
   ]
  },
  {
   "cell_type": "code",
   "execution_count": 19,
   "id": "abf5c24b",
   "metadata": {},
   "outputs": [
    {
     "name": "stdout",
     "output_type": "stream",
     "text": [
      "Parameter containing:\n",
      "tensor([[5.2241]], requires_grad=True)\n",
      "Parameter containing:\n",
      "tensor([-16.4563], requires_grad=True)\n"
     ]
    }
   ],
   "source": [
    "print(linear_model.weight)\n",
    "print(linear_model.bias)"
   ]
  },
  {
   "cell_type": "markdown",
   "id": "779b261d",
   "metadata": {},
   "source": [
    "## 6.3 신경망\n",
    "\n",
    "### 6.3.1 선형 모델 대체하기\n",
    "- model 만 다시 정의\n",
    "1) 선형 + 은닉층 ; 출력층의 입력으로 넣어줌"
   ]
  },
  {
   "cell_type": "code",
   "execution_count": 20,
   "id": "8a123e07",
   "metadata": {},
   "outputs": [],
   "source": [
    "seq_model = nn.Sequential(\n",
    "    nn.Linear(1, 13),\n",
    "    nn.Tanh(),\n",
    "    nn.Linear(13, 1)) # 전의 출력이 13이어서 입력이 13"
   ]
  },
  {
   "cell_type": "code",
   "execution_count": 21,
   "id": "62327145",
   "metadata": {},
   "outputs": [
    {
     "data": {
      "text/plain": [
       "Sequential(\n",
       "  (0): Linear(in_features=1, out_features=13, bias=True)\n",
       "  (1): Tanh()\n",
       "  (2): Linear(in_features=13, out_features=1, bias=True)\n",
       ")"
      ]
     },
     "execution_count": 21,
     "metadata": {},
     "output_type": "execute_result"
    }
   ],
   "source": [
    "seq_model"
   ]
  },
  {
   "cell_type": "markdown",
   "id": "c98774f0",
   "metadata": {},
   "source": [
    "### 6.3.2 파라미터"
   ]
  },
  {
   "cell_type": "code",
   "execution_count": 22,
   "id": "be6c9bf2",
   "metadata": {},
   "outputs": [
    {
     "data": {
      "text/plain": [
       "[Parameter containing:\n",
       " tensor([[-0.7463],\n",
       "         [-0.5751],\n",
       "         [ 0.2986],\n",
       "         [ 0.7412],\n",
       "         [-0.7038],\n",
       "         [-0.0125],\n",
       "         [ 0.8626],\n",
       "         [-0.7534],\n",
       "         [-0.8630],\n",
       "         [-0.6267],\n",
       "         [-0.7755],\n",
       "         [-0.3714],\n",
       "         [ 0.8521]], requires_grad=True),\n",
       " Parameter containing:\n",
       " tensor([-0.8419,  0.6717, -0.7930,  0.4918, -0.0159,  0.0947, -0.4451, -0.7972,\n",
       "         -0.8252, -0.5592, -0.2213, -0.1688,  0.6178], requires_grad=True),\n",
       " Parameter containing:\n",
       " tensor([[ 0.1598, -0.1865, -0.1595,  0.2061, -0.0449,  0.1190,  0.2271,  0.1098,\n",
       "           0.1829, -0.0629,  0.0807, -0.0708,  0.2384]], requires_grad=True),\n",
       " Parameter containing:\n",
       " tensor([0.0756], requires_grad=True)]"
      ]
     },
     "execution_count": 22,
     "metadata": {},
     "output_type": "execute_result"
    }
   ],
   "source": [
    "[param for param in seq_model.parameters()]"
   ]
  },
  {
   "cell_type": "code",
   "execution_count": 23,
   "id": "2cb827a7",
   "metadata": {},
   "outputs": [
    {
     "data": {
      "text/plain": [
       "[torch.Size([13, 1]), torch.Size([13]), torch.Size([1, 13]), torch.Size([1])]"
      ]
     },
     "execution_count": 23,
     "metadata": {},
     "output_type": "execute_result"
    }
   ],
   "source": [
    "[param.shape for param in seq_model.parameters()]  # 최적화 함수로 전달될 텐서"
   ]
  },
  {
   "cell_type": "code",
   "execution_count": 24,
   "id": "27ea1234",
   "metadata": {},
   "outputs": [
    {
     "name": "stdout",
     "output_type": "stream",
     "text": [
      "0.weight torch.Size([13, 1])\n",
      "0.bias torch.Size([13])\n",
      "2.weight torch.Size([1, 13])\n",
      "2.bias torch.Size([1])\n"
     ]
    }
   ],
   "source": [
    "for name, param in seq_model.named_parameters() :\n",
    "    print(name, param.shape)"
   ]
  },
  {
   "cell_type": "code",
   "execution_count": 25,
   "id": "4a0845b9",
   "metadata": {},
   "outputs": [
    {
     "data": {
      "text/plain": [
       "Sequential(\n",
       "  (hidden_linear): Linear(in_features=1, out_features=8, bias=True)\n",
       "  (hidden_activation): Tanh()\n",
       "  (output_linear): Linear(in_features=8, out_features=1, bias=True)\n",
       ")"
      ]
     },
     "execution_count": 25,
     "metadata": {},
     "output_type": "execute_result"
    }
   ],
   "source": [
    "# 각 모듈의 이름 정하여 전달 ; 서브 모듈\n",
    "from collections import OrderedDict\n",
    "seq_model = nn.Sequential(OrderedDict([\n",
    "        ('hidden_linear', nn.Linear(1, 8)),\n",
    "        ('hidden_activation', nn.Tanh()),\n",
    "        ('output_linear', nn.Linear(8, 1))\n",
    "]))\n",
    "seq_model"
   ]
  },
  {
   "cell_type": "code",
   "execution_count": 26,
   "id": "7ca1be6f",
   "metadata": {},
   "outputs": [
    {
     "name": "stdout",
     "output_type": "stream",
     "text": [
      "hidden_linear.weight torch.Size([8, 1])\n",
      "hidden_linear.bias torch.Size([8])\n",
      "output_linear.weight torch.Size([1, 8])\n",
      "output_linear.bias torch.Size([1])\n"
     ]
    }
   ],
   "source": [
    "for name, param in seq_model.named_parameters() :\n",
    "    print(name, param.shape)"
   ]
  },
  {
   "cell_type": "code",
   "execution_count": 27,
   "id": "51bb2420",
   "metadata": {},
   "outputs": [
    {
     "data": {
      "text/plain": [
       "Parameter containing:\n",
       "tensor([0.0610], requires_grad=True)"
      ]
     },
     "execution_count": 27,
     "metadata": {},
     "output_type": "execute_result"
    }
   ],
   "source": [
    "seq_model.output_linear.bias"
   ]
  },
  {
   "cell_type": "code",
   "execution_count": 28,
   "id": "002f0ddd",
   "metadata": {},
   "outputs": [
    {
     "name": "stdout",
     "output_type": "stream",
     "text": [
      "Epoch 1, Training loss 165.5347, Validation loss 224.1932\n",
      "Epoch 1000, Training loss 6.3508, Validation loss 7.2606\n",
      "Epoch 2000, Training loss 5.0778, Validation loss 6.6529\n",
      "Epoch 3000, Training loss 2.6067, Validation loss 3.0835\n",
      "Epoch 4000, Training loss 2.0976, Validation loss 2.4162\n",
      "Epoch 5000, Training loss 1.9050, Validation loss 1.9567\n"
     ]
    }
   ],
   "source": [
    "optimizer = optim.SGD(seq_model.parameters(), lr=1e-3)\n",
    "\n",
    "training_loop(n_epochs=5000, optimizer=optimizer, model=seq_model, loss_fn=nn.MSELoss(),\n",
    "             t_u_train = t_un_train, t_u_val = t_un_val, t_c_train=t_c_train, t_c_val=t_c_val)"
   ]
  },
  {
   "cell_type": "code",
   "execution_count": 29,
   "id": "45ac7148",
   "metadata": {},
   "outputs": [
    {
     "name": "stdout",
     "output_type": "stream",
     "text": [
      "output tensor([[20.3467],\n",
      "        [ 7.8488]], grad_fn=<AddmmBackward0>)\n",
      "answer tensor([[21.],\n",
      "        [ 6.]])\n",
      "hidden tensor([[-0.8176],\n",
      "        [ 0.8425],\n",
      "        [-0.8772],\n",
      "        [-0.7650],\n",
      "        [-0.1550],\n",
      "        [-0.0017],\n",
      "        [-0.0044],\n",
      "        [-0.0359]])\n"
     ]
    }
   ],
   "source": [
    "print('output', seq_model(t_un_val))\n",
    "print('answer', t_c_val)\n",
    "print('hidden', seq_model.hidden_linear.weight.grad) # 은닉층의 선형 영역에서 weight의 기울기 출력 ; training_loop 돌리고 마지막 epoch 후에 만들어진 기울기"
   ]
  },
  {
   "cell_type": "markdown",
   "id": "39b31fd4",
   "metadata": {},
   "source": [
    "### 6.3.3 선형 모델과 비교하기"
   ]
  },
  {
   "cell_type": "code",
   "execution_count": 30,
   "id": "748b2d75",
   "metadata": {},
   "outputs": [
    {
     "data": {
      "text/plain": [
       "torch.Size([70, 1])"
      ]
     },
     "execution_count": 30,
     "metadata": {},
     "output_type": "execute_result"
    }
   ],
   "source": [
    "from matplotlib import pyplot as plt\n",
    "\n",
    "t_range = torch.arange(20., 90.).unsqueeze(1)\n",
    "t_range.shape"
   ]
  },
  {
   "cell_type": "code",
   "execution_count": 31,
   "id": "6e2bd8cb",
   "metadata": {
    "collapsed": true
   },
   "outputs": [
    {
     "data": {
      "text/plain": [
       "tensor([[20.],\n",
       "        [21.],\n",
       "        [22.],\n",
       "        [23.],\n",
       "        [24.],\n",
       "        [25.],\n",
       "        [26.],\n",
       "        [27.],\n",
       "        [28.],\n",
       "        [29.],\n",
       "        [30.],\n",
       "        [31.],\n",
       "        [32.],\n",
       "        [33.],\n",
       "        [34.],\n",
       "        [35.],\n",
       "        [36.],\n",
       "        [37.],\n",
       "        [38.],\n",
       "        [39.],\n",
       "        [40.],\n",
       "        [41.],\n",
       "        [42.],\n",
       "        [43.],\n",
       "        [44.],\n",
       "        [45.],\n",
       "        [46.],\n",
       "        [47.],\n",
       "        [48.],\n",
       "        [49.],\n",
       "        [50.],\n",
       "        [51.],\n",
       "        [52.],\n",
       "        [53.],\n",
       "        [54.],\n",
       "        [55.],\n",
       "        [56.],\n",
       "        [57.],\n",
       "        [58.],\n",
       "        [59.],\n",
       "        [60.],\n",
       "        [61.],\n",
       "        [62.],\n",
       "        [63.],\n",
       "        [64.],\n",
       "        [65.],\n",
       "        [66.],\n",
       "        [67.],\n",
       "        [68.],\n",
       "        [69.],\n",
       "        [70.],\n",
       "        [71.],\n",
       "        [72.],\n",
       "        [73.],\n",
       "        [74.],\n",
       "        [75.],\n",
       "        [76.],\n",
       "        [77.],\n",
       "        [78.],\n",
       "        [79.],\n",
       "        [80.],\n",
       "        [81.],\n",
       "        [82.],\n",
       "        [83.],\n",
       "        [84.],\n",
       "        [85.],\n",
       "        [86.],\n",
       "        [87.],\n",
       "        [88.],\n",
       "        [89.]])"
      ]
     },
     "execution_count": 31,
     "metadata": {},
     "output_type": "execute_result"
    }
   ],
   "source": [
    "t_range"
   ]
  },
  {
   "cell_type": "code",
   "execution_count": null,
   "id": "f336427b",
   "metadata": {},
   "outputs": [
    {
     "data": {
      "text/plain": [
       "[<matplotlib.lines.Line2D at 0x1b545a6ab50>]"
      ]
     },
     "execution_count": 32,
     "metadata": {},
     "output_type": "execute_result"
    }
   ],
   "source": [
    "fig = plt.figure(dpi = 600)\n",
    "plt.xlabel('화씨')\n",
    "plt.ylabel('섭씨')\n",
    "plt.plot(t_u.numpy(), t_c.numpy(), 'o')\n",
    "plt.plot(t_range.numpy(), seq_model(0.1 * t_range).detach().numpy(), 'c-')\n",
    "plt.plot(t_u.numpy(), seq_model(0.1 * t_u).detach().numpy(), 'kx')\n",
    "# 과적합"
   ]
  },
  {
   "cell_type": "code",
   "execution_count": null,
   "id": "a81c41aa",
   "metadata": {},
   "outputs": [],
   "source": []
  }
 ],
 "metadata": {
  "kernelspec": {
   "display_name": "PyTorch",
   "language": "python",
   "name": "pytorch"
  },
  "language_info": {
   "codemirror_mode": {
    "name": "ipython",
    "version": 3
   },
   "file_extension": ".py",
   "mimetype": "text/x-python",
   "name": "python",
   "nbconvert_exporter": "python",
   "pygments_lexer": "ipython3",
   "version": "3.11.5"
  }
 },
 "nbformat": 4,
 "nbformat_minor": 5
}
