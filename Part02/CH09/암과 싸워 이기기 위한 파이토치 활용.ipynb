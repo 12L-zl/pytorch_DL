{
 "cells": [
  {
   "cell_type": "markdown",
   "id": "722914c2",
   "metadata": {},
   "source": [
    "[흉부 CT 스캔 조사부터 환자에게 폐암 진단을 내리기까지 총 5가지의 주요 단계]  \n",
    "end-to-end solution은 CT 데이터 파일을 읽어 CT 인스턴스를 만든 후,  \n",
    "전체 3차원 스캔 데이터를 담고 segmentation을 수행하는 모듈과 결합한 후,  \n",
    "추려진 복셀을 작은 덩어리로 나누어 결절로 간주될 만한 것을 찾는다.  \n",
    "결절의 위치 정보는 CT 복셀 데이터 뒤에 붙어 후보가 되고, 이 후보들은 결절을 분류하는 모델에 의해 실제 결절인지, 최종적으로 악성이 될지 여부를 조사한다."
   ]
  },
  {
   "cell_type": "markdown",
   "id": "fdce5630",
   "metadata": {},
   "source": [
    "1. 데이터 읽기\n",
    "2. 복셀 찾기  \n",
    "폐의 잠재적 결절에 해당하는 복셀을 찾는다. segmentation을 활용하기 위해서이다. CV에는 heatmap을 찾는 방식과 유사하다고 볼 수 있다. 필요한 부분만 걷어내는 작업이다.\n",
    "3. 데이터 전처리  \n",
    "관심있는 복셀들을 후보 덩어리로 묶는다.(후보 결절) 각각의 결절은 인덱스가 부여되며, 중심부에서 시작하는 행과 열로 위치할 수 있다.\n",
    "4. 분류 진행  \n",
    "3차원 conv를 활용하여 각 후보 결절에 대해 실제 결절인지 아닌지로 분류를 진행한다. 여기서 분류를 할 범위를 제한하여 작업 단위를 줄이는 과정을 진행한다.\n",
    "5. 환자 진단  "
   ]
  },
  {
   "cell_type": "markdown",
   "id": "c13ddd04",
   "metadata": {},
   "source": [
    "CT스캔 : 단일 채널의 3차원 배열로 표현되는 3차원 X-ray, 마치 흑백 PNG 이미지를 차곡차곡 쌓아 놓은 것으로 보인다.  \n",
    "복셀(voxel) : 2차원 픽셀의 3차원 버전"
   ]
  },
  {
   "cell_type": "markdown",
   "id": "2385a0b1",
   "metadata": {},
   "source": [
    "https://luna16.grand-challenge.org/Download/\n",
    "\n",
    "이곳에서 데이터 다운로드\n",
    "- subset 0 ~ subset 9 까지 다운로드 받는데, 최소 220GB 공간 필요\n",
    "- 상황이 되지 않아 본 코드는 subset 0, subset 1만 다운로드"
   ]
  },
  {
   "cell_type": "code",
   "execution_count": null,
   "id": "91aacd11",
   "metadata": {},
   "outputs": [],
   "source": []
  }
 ],
 "metadata": {
  "kernelspec": {
   "display_name": "PyTorch",
   "language": "python",
   "name": "pytorch"
  },
  "language_info": {
   "codemirror_mode": {
    "name": "ipython",
    "version": 3
   },
   "file_extension": ".py",
   "mimetype": "text/x-python",
   "name": "python",
   "nbconvert_exporter": "python",
   "pygments_lexer": "ipython3",
   "version": "3.11.5"
  }
 },
 "nbformat": 4,
 "nbformat_minor": 5
}
